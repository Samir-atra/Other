{
  "cells": [
    {
      "cell_type": "markdown",
      "metadata": {
        "id": "view-in-github",
        "colab_type": "text"
      },
      "source": [
        "<a href=\"https://colab.research.google.com/github/Samir-atra/Other/blob/main/Capsa_experience/Capsa_Copy_of_Train%26Test.ipynb\" target=\"_parent\"><img src=\"https://colab.research.google.com/assets/colab-badge.svg\" alt=\"Open In Colab\"/></a>"
      ]
    },
    {
      "cell_type": "code",
      "execution_count": null,
      "metadata": {
        "id": "d6vfxK_0Ptlr",
        "outputId": "ea183a0d-c517-43f1-a064-a39357394518",
        "colab": {
          "base_uri": "https://localhost:8080/"
        }
      },
      "outputs": [
        {
          "output_type": "stream",
          "name": "stdout",
          "text": [
            "\u001b[?25l     \u001b[90m━━━━━━━━━━━━━━━━━━━━━━━━━━━━━━━━━━━━━━━━\u001b[0m \u001b[32m0.0/176.1 kB\u001b[0m \u001b[31m?\u001b[0m eta \u001b[36m-:--:--\u001b[0m\r\u001b[2K     \u001b[91m━━━━━━━━━━━━━━━━━━━━━━━━━━━━━━━━━━━━━\u001b[0m\u001b[91m╸\u001b[0m \u001b[32m174.1/176.1 kB\u001b[0m \u001b[31m42.9 MB/s\u001b[0m eta \u001b[36m0:00:01\u001b[0m\r\u001b[2K     \u001b[90m━━━━━━━━━━━━━━━━━━━━━━━━━━━━━━━━━━━━━━━\u001b[0m \u001b[32m176.1/176.1 kB\u001b[0m \u001b[31m3.3 MB/s\u001b[0m eta \u001b[36m0:00:00\u001b[0m\n",
            "\u001b[?25hLooking in indexes: https://pypi.org/simple, https://us-python.pkg.dev/colab-wheels/public/simple/\n",
            "Collecting git+https://github.com/themis-ai/capsa.git\n",
            "  Cloning https://github.com/themis-ai/capsa.git to /tmp/pip-req-build-z7ehwiay\n",
            "  Running command git clone --filter=blob:none --quiet https://github.com/themis-ai/capsa.git /tmp/pip-req-build-z7ehwiay\n",
            "  Resolved https://github.com/themis-ai/capsa.git to commit d5f0decf7e8d4abdb9ca370a0b9bb03787de8e9a\n",
            "  Preparing metadata (setup.py) ... \u001b[?25l\u001b[?25hdone\n",
            "Building wheels for collected packages: capsa\n",
            "  Building wheel for capsa (setup.py) ... \u001b[?25l\u001b[?25hdone\n",
            "  Created wheel for capsa: filename=capsa-0.1.5-py3-none-any.whl size=48480 sha256=31d4a4fd5cad9d3b8b343560d8c5658557d83c2320531fa31687549dde0ee629\n",
            "  Stored in directory: /tmp/pip-ephem-wheel-cache-p6web6i0/wheels/b8/21/2a/cb813978e5d8e8ffb82950eb786e69e6b70288ebea8557ff11\n",
            "Successfully built capsa\n",
            "Installing collected packages: capsa\n",
            "Successfully installed capsa-0.1.5\n",
            "Looking in indexes: https://pypi.org/simple, https://us-python.pkg.dev/colab-wheels/public/simple/\n",
            "Collecting helper\n",
            "  Downloading helper-2.5.0.tar.gz (18 kB)\n",
            "  Preparing metadata (setup.py) ... \u001b[?25l\u001b[?25hdone\n",
            "Requirement already satisfied: pyyaml in /usr/local/lib/python3.10/dist-packages (from helper) (6.0)\n",
            "Building wheels for collected packages: helper\n",
            "  Building wheel for helper (setup.py) ... \u001b[?25l\u001b[?25hdone\n",
            "  Created wheel for helper: filename=helper-2.5.0-py2.py3-none-any.whl size=19185 sha256=f1c12db6724a5fdae1bf34d0c057ca919ae88ff6e75034740f043560eb6243f8\n",
            "  Stored in directory: /root/.cache/pip/wheels/13/8a/92/4a4267b8371d6e453121c917021173b4a682d691f123b9f647\n",
            "Successfully built helper\n",
            "Installing collected packages: helper\n",
            "Successfully installed helper-2.5.0\n",
            "Mounted at /content/drive\n"
          ]
        }
      ],
      "source": [
        "# Imports\n",
        "\n",
        "import tensorflow as tf\n",
        "import tensorflow_hub as hub\n",
        "import numpy as np\n",
        "import os\n",
        "import pathlib\n",
        "import IPython\n",
        "import sys\n",
        "!pip install keras_tuner -q\n",
        "import keras_tuner\n",
        "!pip install git+https://github.com/themis-ai/capsa.git\n",
        "import capsa\n",
        "from capsa import EnsembleWrapper, DropoutWrapper, VAEWrapper\n",
        "!pip install helper\n",
        "import helper\n",
        "\n",
        "from google.colab import drive             \n",
        "drive.mount('/content/drive')"
      ]
    },
    {
      "cell_type": "code",
      "execution_count": null,
      "metadata": {
        "id": "vfp3guitPtlt",
        "outputId": "0671e793-587a-48d2-cdc7-0076443fef0f",
        "colab": {
          "base_uri": "https://localhost:8080/"
        }
      },
      "outputs": [
        {
          "output_type": "stream",
          "name": "stdout",
          "text": [
            "Found 4159 files belonging to 2 classes.\n",
            "Using 3328 files for training.\n",
            "Found 4159 files belonging to 2 classes.\n",
            "Using 831 files for validation.\n",
            "Found 921 files belonging to 2 classes.\n",
            "Found 4159 files belonging to 2 classes.\n"
          ]
        }
      ],
      "source": [
        "# Dataset loading\n",
        "\n",
        "data_path = pathlib.Path('/content/drive/MyDrive/archiveX3/Training/')\n",
        "data_path_test = pathlib.Path('/content/drive/MyDrive/archiveX3/Testing/')\n",
        "\n",
        "dataset_path = tf.keras.utils.image_dataset_from_directory(\n",
        "    data_path,\n",
        "    labels= 'inferred',\n",
        "    validation_split=0.2,\n",
        "    subset='training',\n",
        "    seed= 1,\n",
        "    batch_size=64,\n",
        "    image_size=(64, 64),\n",
        "    color_mode=\"rgb\")\n",
        "    # shuffle=True)\n",
        "\n",
        "dataset_path_val = tf.keras.utils.image_dataset_from_directory(\n",
        "    data_path,\n",
        "    labels= 'inferred',\n",
        "    validation_split=0.2,\n",
        "    subset='validation',\n",
        "    seed= 2,\n",
        "    batch_size=64,\n",
        "    image_size=(64, 64),\n",
        "    color_mode=\"rgb\")\n",
        "    # shuffle=True)\n",
        "\n",
        "dataset_path_test = tf.keras.utils.image_dataset_from_directory(\n",
        "    data_path_test,\n",
        "    labels= 'inferred',\n",
        "    seed= 3,\n",
        "    batch_size=64,\n",
        "    image_size=(64, 64),\n",
        "    color_mode=\"rgb\")\n",
        "    # shuffle=True)\n",
        "\n",
        "efficientnet_dataset = tf.keras.utils.image_dataset_from_directory(\n",
        "    data_path,\n",
        "    labels= 'inferred',\n",
        "    seed= 3,\n",
        "    batch_size=64,\n",
        "    image_size=(240, 240),\n",
        "    color_mode=\"rgb\")\n",
        "\n",
        "# efficientnet_dataset_val = tf.keras.utils.image_dataset_from_directory(\n",
        "#     data_path,\n",
        "#     labels= 'inferred',\n",
        "#     seed= 3,\n",
        "#     batch_size=64,\n",
        "#     image_size=(240, 240),\n",
        "#     color_mode=\"rgb\")\n",
        "\n",
        "num_classes = 1\n",
        "\n"
      ]
    },
    {
      "cell_type": "code",
      "execution_count": null,
      "metadata": {
        "id": "SZiBiEnNPtlu"
      },
      "outputs": [],
      "source": [
        "# # catch and prefetch\n",
        "# AUTOTUNE=tf.data.AUTOTUNE\n",
        "# dataset_path = dataset_path.cache().prefetch(buffer_size=AUTOTUNE)\n",
        "# dataset_path_val = dataset_path_val.cache().prefetch(buffer_size=AUTOTUNE)"
      ]
    },
    {
      "cell_type": "code",
      "source": [
        "# the HistogramVAEWrapper check\n",
        "\n",
        "\n",
        "# def build_model(hp):\n",
        "\n",
        "model = tf.keras.Sequential([\n",
        "    tf.keras.Input(shape=(64, 64, 3)),\n",
        "    # tf.keras.layers.Rescaling(1./255),\n",
        "    tf.keras.layers.Conv2D(16, 3, strides = 2, padding = \"same\",  activation='relu'),#, kernel_regularizer=tf.keras.regularizers.l2(0.001)),  \n",
        "    tf.keras.layers.BatchNormalization(),\n",
        "    # tf.keras.layers.Dropout(0.5),                                                                         #DP1\n",
        "    tf.keras.layers.Conv2D(32, 3, strides = 2, padding = \"same\", activation='relu'),#, kernel_regularizer=tf.keras.regularizers.l2(0.001)),\n",
        "    tf.keras.layers.BatchNormalization(),\n",
        "    # tf.keras.layers.Dropout(0.5),                                                                         #DP2\n",
        "    tf.keras.layers.Conv2D(64, 3, strides = 2, padding = \"same\", activation='relu'),#, kernel_regularizer=tf.keras.regularizers.l2(0.001)),\n",
        "    tf.keras.layers.BatchNormalization(),\n",
        "    # tf.keras.layers.Dropout(0.5),\n",
        "    tf.keras.layers.Conv2D(128, 1, strides = 2, padding = \"same\", activation='relu'),#, kernel_regularizer=tf.keras.regularizers.l2(0.001)),\n",
        "    tf.keras.layers.BatchNormalization(),\n",
        "    # tf.keras.layers.Dropout(0.7),                                                                         #DP3\n",
        "    tf.keras.layers.Flatten(),\n",
        "    tf.keras.layers.Dense(units = 512, activation='relu'),#, kernel_regularizer=tf.keras.regularizers.l2(0.001)),\n",
        "    # tf.keras.layers.Dropout(0.2),                                                                         #DP4                                                                        #DP5\n",
        "    tf.keras.layers.Dense(num_classes, activation= None)\n",
        "])\n",
        "\n",
        "\n",
        "decoder = tf.keras.Sequential([\n",
        "        tf.keras.layers.Dense(units=4*4*128),  \n",
        "        tf.keras.layers.Reshape((4, 4, 128)),\n",
        "        tf.keras.layers.Conv2DTranspose(64, 1,  strides=2, padding = \"same\", activation='relu'),\n",
        "        tf.keras.layers.Conv2DTranspose(32, 3,  strides=2, padding = \"same\", activation='relu'),\n",
        "        tf.keras.layers.Conv2DTranspose(16, 3,  strides=2, padding = \"same\", activation='relu'),\n",
        "        tf.keras.layers.Conv2DTranspose(3, 3,  strides=2, padding = \"same\"),\n",
        "    ])\n",
        "\n",
        "\n",
        "# learning_rate = hp.Float(\"lr\", min_value=1e-5, max_value=1e-3, sampling=\"log\")\n",
        "\n",
        "wrapped_model = capsa.HistogramVAEWrapper(model, num_bins=5, queue_size=20000, latent_dim = 64, decoder=decoder)\n",
        "\n",
        "wrapped_model.compile(\n",
        "    optimizer= tf.keras.optimizers.Adam(learning_rate = 0.001),\n",
        "    loss= tf.losses.BinaryCrossentropy(from_logits= True),\n",
        "    metrics= [tf.keras.metrics.BinaryAccuracy()]\n",
        ")\n",
        "\n",
        "#   return wrapped_model \n",
        "\n",
        "# build_model(keras_tuner.HyperParameters())\n",
        "\n",
        "# tuner = keras_tuner.RandomSearch(\n",
        "#     hypermodel=build_model,\n",
        "#     objective=\"vae_compiled_binary_accuracy\",\n",
        "#     max_trials=5,\n",
        "#     executions_per_trial=2,\n",
        "#     overwrite=True,\n",
        "#     directory=\"/content/drive/MyDrive/Tuner_Capsa\",\n",
        "#     project_name=\"Tuner\",\n",
        "# )\n",
        "\n",
        "# tuner.search_space_summary()\n",
        "\n",
        "# tuner.search(dataset_path, epochs=5, validation_data = dataset_path_val)\n",
        "\n",
        "# tuner.results_summary()\n",
        "\n",
        "# wrapped_model.summary()\n",
        "\n",
        "history = wrapped_model.fit(\n",
        "    dataset_path,\n",
        "    epochs=30,                                    \n",
        "    validation_data = dataset_path_val)\n",
        "\n",
        "\n",
        "out = wrapped_model.predict(dataset_path_test, batch_size=512)\n"
      ],
      "metadata": {
        "id": "HqkZqKoNbKMh",
        "outputId": "c59f8275-7d98-415d-92d7-990e4b4b76fa",
        "colab": {
          "base_uri": "https://localhost:8080/"
        }
      },
      "execution_count": null,
      "outputs": [
        {
          "metadata": {
            "tags": null
          },
          "name": "stdout",
          "output_type": "stream",
          "text": [
            "Epoch 1/30\n"
          ]
        },
        {
          "metadata": {
            "tags": null
          },
          "name": "stderr",
          "output_type": "stream",
          "text": [
            "WARNING:tensorflow:Gradients do not exist for variables ['dense_1/kernel:0', 'dense_1/bias:0'] when minimizing the loss. If you're using `model.compile()`, did you forget to provide a `loss` argument?\n",
            "WARNING:tensorflow:Gradients do not exist for variables ['dense_1/kernel:0', 'dense_1/bias:0'] when minimizing the loss. If you're using `model.compile()`, did you forget to provide a `loss` argument?\n",
            "WARNING:tensorflow:Gradients do not exist for variables ['dense_1/kernel:0', 'dense_1/bias:0'] when minimizing the loss. If you're using `model.compile()`, did you forget to provide a `loss` argument?\n",
            "WARNING:tensorflow:Gradients do not exist for variables ['dense_1/kernel:0', 'dense_1/bias:0'] when minimizing the loss. If you're using `model.compile()`, did you forget to provide a `loss` argument?\n"
          ]
        },
        {
          "output_type": "stream",
          "name": "stdout",
          "text": [
            "52/52 [==============================] - 804s 12s/step - vae_compiled_loss: 0.8514 - vae_compiled_binary_accuracy: 0.5165 - vae_wrapper_loss: 70154176.0000 - val_vae_compiled_loss: 0.5182 - val_vae_compiled_binary_accuracy: 0.7497 - val_vae_wrapper_loss: 34375212.0000\n",
            "Epoch 2/30\n",
            "52/52 [==============================] - 7s 124ms/step - vae_compiled_loss: 0.5485 - vae_compiled_binary_accuracy: 0.7496 - vae_wrapper_loss: 39863024.0000 - val_vae_compiled_loss: 0.4342 - val_vae_compiled_binary_accuracy: 0.8039 - val_vae_wrapper_loss: 32065984.0000\n",
            "Epoch 3/30\n",
            "52/52 [==============================] - 7s 123ms/step - vae_compiled_loss: 0.4383 - vae_compiled_binary_accuracy: 0.7955 - vae_wrapper_loss: 29629548.0000 - val_vae_compiled_loss: 0.4008 - val_vae_compiled_binary_accuracy: 0.8171 - val_vae_wrapper_loss: 29190026.0000\n",
            "Epoch 4/30\n",
            "52/52 [==============================] - 9s 152ms/step - vae_compiled_loss: 0.4150 - vae_compiled_binary_accuracy: 0.8057 - vae_wrapper_loss: 27020900.0000 - val_vae_compiled_loss: 0.3626 - val_vae_compiled_binary_accuracy: 0.8460 - val_vae_wrapper_loss: 26270140.0000\n",
            "Epoch 5/30\n",
            "52/52 [==============================] - 7s 123ms/step - vae_compiled_loss: 0.3724 - vae_compiled_binary_accuracy: 0.8193 - vae_wrapper_loss: 26238312.0000 - val_vae_compiled_loss: 0.3354 - val_vae_compiled_binary_accuracy: 0.8387 - val_vae_wrapper_loss: 28802114.0000\n",
            "Epoch 6/30\n",
            "52/52 [==============================] - 7s 121ms/step - vae_compiled_loss: 0.3492 - vae_compiled_binary_accuracy: 0.8316 - vae_wrapper_loss: 25631512.0000 - val_vae_compiled_loss: 0.3199 - val_vae_compiled_binary_accuracy: 0.8544 - val_vae_wrapper_loss: 28314906.0000\n",
            "Epoch 7/30\n",
            "52/52 [==============================] - 8s 135ms/step - vae_compiled_loss: 0.3315 - vae_compiled_binary_accuracy: 0.8472 - vae_wrapper_loss: 25111210.0000 - val_vae_compiled_loss: 0.3034 - val_vae_compiled_binary_accuracy: 0.8580 - val_vae_wrapper_loss: 26006634.0000\n",
            "Epoch 8/30\n",
            "52/52 [==============================] - 8s 147ms/step - vae_compiled_loss: 0.3124 - vae_compiled_binary_accuracy: 0.8595 - vae_wrapper_loss: 24780350.0000 - val_vae_compiled_loss: 0.2955 - val_vae_compiled_binary_accuracy: 0.8604 - val_vae_wrapper_loss: 22462956.0000\n",
            "Epoch 9/30\n",
            "52/52 [==============================] - 7s 126ms/step - vae_compiled_loss: 0.3092 - vae_compiled_binary_accuracy: 0.8557 - vae_wrapper_loss: 24306380.0000 - val_vae_compiled_loss: 0.2814 - val_vae_compiled_binary_accuracy: 0.8688 - val_vae_wrapper_loss: 23313178.0000\n",
            "Epoch 10/30\n",
            "52/52 [==============================] - 9s 152ms/step - vae_compiled_loss: 0.2973 - vae_compiled_binary_accuracy: 0.8653 - vae_wrapper_loss: 23697120.0000 - val_vae_compiled_loss: 0.2713 - val_vae_compiled_binary_accuracy: 0.8785 - val_vae_wrapper_loss: 25789864.0000\n",
            "Epoch 11/30\n",
            "52/52 [==============================] - 8s 148ms/step - vae_compiled_loss: 0.2892 - vae_compiled_binary_accuracy: 0.8705 - vae_wrapper_loss: 22709268.0000 - val_vae_compiled_loss: 0.2643 - val_vae_compiled_binary_accuracy: 0.8941 - val_vae_wrapper_loss: 27363950.0000\n",
            "Epoch 12/30\n",
            "52/52 [==============================] - 7s 124ms/step - vae_compiled_loss: 0.2866 - vae_compiled_binary_accuracy: 0.8779 - vae_wrapper_loss: 21598510.0000 - val_vae_compiled_loss: 0.2497 - val_vae_compiled_binary_accuracy: 0.8845 - val_vae_wrapper_loss: 21984812.0000\n",
            "Epoch 13/30\n",
            "52/52 [==============================] - 9s 151ms/step - vae_compiled_loss: 0.2680 - vae_compiled_binary_accuracy: 0.8795 - vae_wrapper_loss: 20338960.0000 - val_vae_compiled_loss: 0.2541 - val_vae_compiled_binary_accuracy: 0.8748 - val_vae_wrapper_loss: 20184742.0000\n",
            "Epoch 14/30\n",
            "52/52 [==============================] - 9s 150ms/step - vae_compiled_loss: 0.2502 - vae_compiled_binary_accuracy: 0.8871 - vae_wrapper_loss: 19855348.0000 - val_vae_compiled_loss: 0.2373 - val_vae_compiled_binary_accuracy: 0.8917 - val_vae_wrapper_loss: 21963774.0000\n",
            "Epoch 15/30\n",
            "52/52 [==============================] - 8s 129ms/step - vae_compiled_loss: 0.2547 - vae_compiled_binary_accuracy: 0.8816 - vae_wrapper_loss: 19503580.0000 - val_vae_compiled_loss: 0.2372 - val_vae_compiled_binary_accuracy: 0.8977 - val_vae_wrapper_loss: 19949220.0000\n",
            "Epoch 16/30\n",
            "52/52 [==============================] - 9s 153ms/step - vae_compiled_loss: 0.2513 - vae_compiled_binary_accuracy: 0.8779 - vae_wrapper_loss: 19333728.0000 - val_vae_compiled_loss: 0.2164 - val_vae_compiled_binary_accuracy: 0.9073 - val_vae_wrapper_loss: 19295866.0000\n",
            "Epoch 17/30\n",
            "52/52 [==============================] - 7s 123ms/step - vae_compiled_loss: 0.2327 - vae_compiled_binary_accuracy: 0.8888 - vae_wrapper_loss: 19058562.0000 - val_vae_compiled_loss: 0.2133 - val_vae_compiled_binary_accuracy: 0.9037 - val_vae_wrapper_loss: 17271592.0000\n",
            "Epoch 18/30\n",
            "52/52 [==============================] - 9s 151ms/step - vae_compiled_loss: 0.2369 - vae_compiled_binary_accuracy: 0.8898 - vae_wrapper_loss: 18952084.0000 - val_vae_compiled_loss: 0.2169 - val_vae_compiled_binary_accuracy: 0.9110 - val_vae_wrapper_loss: 20516094.0000\n",
            "Epoch 19/30\n",
            "52/52 [==============================] - 7s 126ms/step - vae_compiled_loss: 0.2390 - vae_compiled_binary_accuracy: 0.8943 - vae_wrapper_loss: 18910136.0000 - val_vae_compiled_loss: 0.2059 - val_vae_compiled_binary_accuracy: 0.9073 - val_vae_wrapper_loss: 19281636.0000\n",
            "Epoch 20/30\n",
            "52/52 [==============================] - 7s 125ms/step - vae_compiled_loss: 0.2190 - vae_compiled_binary_accuracy: 0.9000 - vae_wrapper_loss: 18575320.0000 - val_vae_compiled_loss: 0.2016 - val_vae_compiled_binary_accuracy: 0.9122 - val_vae_wrapper_loss: 21453520.0000\n",
            "Epoch 21/30\n",
            "52/52 [==============================] - 9s 154ms/step - vae_compiled_loss: 0.2222 - vae_compiled_binary_accuracy: 0.9033 - vae_wrapper_loss: 18422842.0000 - val_vae_compiled_loss: 0.1957 - val_vae_compiled_binary_accuracy: 0.9134 - val_vae_wrapper_loss: 16434044.0000\n",
            "Epoch 22/30\n",
            "52/52 [==============================] - 7s 124ms/step - vae_compiled_loss: 0.2128 - vae_compiled_binary_accuracy: 0.9053 - vae_wrapper_loss: 18326152.0000 - val_vae_compiled_loss: 0.1940 - val_vae_compiled_binary_accuracy: 0.9170 - val_vae_wrapper_loss: 17120546.0000\n",
            "Epoch 23/30\n",
            "52/52 [==============================] - 9s 149ms/step - vae_compiled_loss: 0.2177 - vae_compiled_binary_accuracy: 0.9072 - vae_wrapper_loss: 18227168.0000 - val_vae_compiled_loss: 0.1883 - val_vae_compiled_binary_accuracy: 0.9085 - val_vae_wrapper_loss: 19513540.0000\n",
            "Epoch 24/30\n",
            "52/52 [==============================] - 8s 148ms/step - vae_compiled_loss: 0.2106 - vae_compiled_binary_accuracy: 0.9055 - vae_wrapper_loss: 18004968.0000 - val_vae_compiled_loss: 0.1867 - val_vae_compiled_binary_accuracy: 0.9085 - val_vae_wrapper_loss: 19234506.0000\n",
            "Epoch 25/30\n",
            "52/52 [==============================] - 7s 124ms/step - vae_compiled_loss: 0.2088 - vae_compiled_binary_accuracy: 0.9090 - vae_wrapper_loss: 18008120.0000 - val_vae_compiled_loss: 0.1844 - val_vae_compiled_binary_accuracy: 0.9182 - val_vae_wrapper_loss: 17844404.0000\n",
            "Epoch 26/30\n",
            "52/52 [==============================] - 9s 152ms/step - vae_compiled_loss: 0.2012 - vae_compiled_binary_accuracy: 0.9140 - vae_wrapper_loss: 17851344.0000 - val_vae_compiled_loss: 0.1806 - val_vae_compiled_binary_accuracy: 0.9194 - val_vae_wrapper_loss: 17689764.0000\n",
            "Epoch 27/30\n",
            "52/52 [==============================] - 8s 148ms/step - vae_compiled_loss: 0.1928 - vae_compiled_binary_accuracy: 0.9100 - vae_wrapper_loss: 17557508.0000 - val_vae_compiled_loss: 0.1719 - val_vae_compiled_binary_accuracy: 0.9314 - val_vae_wrapper_loss: 19366278.0000\n",
            "Epoch 28/30\n",
            "52/52 [==============================] - 7s 125ms/step - vae_compiled_loss: 0.1912 - vae_compiled_binary_accuracy: 0.9162 - vae_wrapper_loss: 17444658.0000 - val_vae_compiled_loss: 0.1766 - val_vae_compiled_binary_accuracy: 0.9242 - val_vae_wrapper_loss: 19257700.0000\n",
            "Epoch 29/30\n",
            "52/52 [==============================] - 9s 151ms/step - vae_compiled_loss: 0.1764 - vae_compiled_binary_accuracy: 0.9254 - vae_wrapper_loss: 17279340.0000 - val_vae_compiled_loss: 0.1732 - val_vae_compiled_binary_accuracy: 0.9362 - val_vae_wrapper_loss: 17132504.0000\n",
            "Epoch 30/30\n",
            "52/52 [==============================] - 8s 138ms/step - vae_compiled_loss: 0.1826 - vae_compiled_binary_accuracy: 0.9191 - vae_wrapper_loss: 17226140.0000 - val_vae_compiled_loss: 0.1710 - val_vae_compiled_binary_accuracy: 0.9290 - val_vae_wrapper_loss: 16780534.0000\n",
            "15/15 [==============================] - 316s 8s/step\n"
          ]
        }
      ]
    },
    {
      "cell_type": "code",
      "source": [
        "mve_model = capsa.MVEWrapper(model, is_classification=True)\n",
        "\n",
        "mve_model.compile(\n",
        "    optimizer=tf.keras.optimizers.Adam(learning_rate=5e-4),\n",
        "    loss=tf.keras.losses.BinaryCrossentropy(from_logits=True), \n",
        "    metrics=[tf.keras.metrics.BinaryAccuracy()], \n",
        "    run_eagerly=True\n",
        ")\n",
        "\n",
        "history = mve_model.fit(\n",
        "        dataset_path,\n",
        "        epochs=6,\n",
        "        batch_size=64,\n",
        "  )\n",
        "\n",
        "normalization_layer = tf.keras.layers.Rescaling(1./255)\n",
        "normalized_train_ds = dataset_path.map(lambda x, y: (normalization_layer(x), y))\n",
        "normalized_test_ds = dataset_path_test.map(lambda x, y: (normalization_layer(x), y))\n",
        "\n",
        "images = np.vstack((normalized_test_ds, normalized_train_ds))\n",
        "\n",
        "# print(type(images[1][0]))\n",
        "\n",
        "# images= tf.convert_to_tensor(np.asarray(images).astype('float32'))\n",
        "\n",
        "# predictions = model(images)"
      ],
      "metadata": {
        "id": "Pq5nyLc-JMYL",
        "outputId": "4a1305dd-53b9-4f7d-f806-1e6a790dc193",
        "colab": {
          "base_uri": "https://localhost:8080/"
        }
      },
      "execution_count": null,
      "outputs": [
        {
          "output_type": "stream",
          "name": "stdout",
          "text": [
            "Epoch 1/6\n"
          ]
        },
        {
          "output_type": "stream",
          "name": "stderr",
          "text": [
            "WARNING:tensorflow:Gradients do not exist for variables ['dense_1/kernel:0', 'dense_1/bias:0'] when minimizing the loss. If you're using `model.compile()`, did you forget to provide a `loss` argument?\n",
            "WARNING:tensorflow:Gradients do not exist for variables ['dense_1/kernel:0', 'dense_1/bias:0'] when minimizing the loss. If you're using `model.compile()`, did you forget to provide a `loss` argument?\n",
            "WARNING:tensorflow:Gradients do not exist for variables ['dense_1/kernel:0', 'dense_1/bias:0'] when minimizing the loss. If you're using `model.compile()`, did you forget to provide a `loss` argument?\n",
            "WARNING:tensorflow:Gradients do not exist for variables ['dense_1/kernel:0', 'dense_1/bias:0'] when minimizing the loss. If you're using `model.compile()`, did you forget to provide a `loss` argument?\n"
          ]
        },
        {
          "output_type": "stream",
          "name": "stdout",
          "text": [
            "52/52 [==============================] - 11s 101ms/step - mve_compiled_loss: 0.4156 - mve_compiled_binary_accuracy: 0.8397 - mve_wrapper_loss: 127.9462\n",
            "Epoch 2/6\n",
            "52/52 [==============================] - 6s 96ms/step - mve_compiled_loss: 0.0394 - mve_compiled_binary_accuracy: 0.9920 - mve_wrapper_loss: 128.0146\n",
            "Epoch 3/6\n",
            "52/52 [==============================] - 7s 111ms/step - mve_compiled_loss: 0.0076 - mve_compiled_binary_accuracy: 0.9999 - mve_wrapper_loss: 127.5979\n",
            "Epoch 4/6\n",
            "52/52 [==============================] - 6s 96ms/step - mve_compiled_loss: 0.0042 - mve_compiled_binary_accuracy: 1.0000 - mve_wrapper_loss: 127.4379\n",
            "Epoch 5/6\n",
            "52/52 [==============================] - 7s 118ms/step - mve_compiled_loss: 0.0019 - mve_compiled_binary_accuracy: 1.0000 - mve_wrapper_loss: 127.8286\n",
            "Epoch 6/6\n",
            "52/52 [==============================] - 6s 96ms/step - mve_compiled_loss: 0.0013 - mve_compiled_binary_accuracy: 1.0000 - mve_wrapper_loss: 127.5142\n"
          ]
        }
      ]
    },
    {
      "cell_type": "code",
      "source": [
        "Ensemble_wrapped_model = EnsembleWrapper(model,num_members=1)\n",
        "\n",
        "\n",
        "Ensemble_wrapped_model.compile(\n",
        "            optimizer=tf.keras.optimizers.Adam(),\n",
        "            loss=tf.keras.losses.BinaryCrossentropy(),\n",
        "            metrics=[tf.keras.metrics.BinaryAccuracy()]\n",
        "                     )\n",
        "\n",
        "history = Ensemble_wrapped_model.fit(\n",
        "        dataset_path,\n",
        "        epochs=12,\n",
        "        batch_size=64,\n",
        "  )\n",
        "\n",
        "# mesh_grid = helper.get_grid()\n",
        "# output = Ensemble_wrapped_model(mesh_grid)\n",
        "# helper.plot_ensemble_classification(output,mesh_grid,dataset_path_test)"
      ],
      "metadata": {
        "id": "hmGa4UoEwuwS",
        "outputId": "b7def614-854c-47d6-98c8-cc5b1ea97df6",
        "colab": {
          "base_uri": "https://localhost:8080/"
        }
      },
      "execution_count": null,
      "outputs": [
        {
          "output_type": "stream",
          "name": "stdout",
          "text": [
            "Epoch 1/12\n",
            "52/52 [==============================] - 10s 90ms/step - usermodel_0_compiled_loss: 3.1661 - usermodel_0_compiled_binary_accuracy: 0.7560\n",
            "Epoch 2/12\n",
            "52/52 [==============================] - 6s 104ms/step - usermodel_0_compiled_loss: 2.8640 - usermodel_0_compiled_binary_accuracy: 0.8004\n",
            "Epoch 3/12\n",
            "52/52 [==============================] - 6s 95ms/step - usermodel_0_compiled_loss: 2.8455 - usermodel_0_compiled_binary_accuracy: 0.8065\n",
            "Epoch 4/12\n",
            "52/52 [==============================] - 6s 94ms/step - usermodel_0_compiled_loss: 2.8600 - usermodel_0_compiled_binary_accuracy: 0.8074\n",
            "Epoch 5/12\n",
            "52/52 [==============================] - 7s 106ms/step - usermodel_0_compiled_loss: 2.8856 - usermodel_0_compiled_binary_accuracy: 0.8067\n",
            "Epoch 6/12\n",
            "52/52 [==============================] - 6s 94ms/step - usermodel_0_compiled_loss: 2.8680 - usermodel_0_compiled_binary_accuracy: 0.8080\n",
            "Epoch 7/12\n",
            "52/52 [==============================] - 7s 115ms/step - usermodel_0_compiled_loss: 3.4449 - usermodel_0_compiled_binary_accuracy: 0.7707\n",
            "Epoch 8/12\n",
            "52/52 [==============================] - 6s 93ms/step - usermodel_0_compiled_loss: 4.0425 - usermodel_0_compiled_binary_accuracy: 0.7319\n",
            "Epoch 9/12\n",
            "52/52 [==============================] - 7s 116ms/step - usermodel_0_compiled_loss: 4.4962 - usermodel_0_compiled_binary_accuracy: 0.7025\n",
            "Epoch 10/12\n",
            "52/52 [==============================] - 6s 95ms/step - usermodel_0_compiled_loss: 4.8573 - usermodel_0_compiled_binary_accuracy: 0.6791\n",
            "Epoch 11/12\n",
            "52/52 [==============================] - 7s 116ms/step - usermodel_0_compiled_loss: 5.0314 - usermodel_0_compiled_binary_accuracy: 0.6679\n",
            "Epoch 12/12\n",
            "52/52 [==============================] - 6s 94ms/step - usermodel_0_compiled_loss: 4.9692 - usermodel_0_compiled_binary_accuracy: 0.6720\n"
          ]
        }
      ]
    },
    {
      "cell_type": "code",
      "source": [
        "base_model = tf.keras.Sequential([\n",
        "    hub.KerasLayer(\"https://tfhub.dev/google/imagenet/efficientnet_v2_imagenet1k_b1/feature_vector/2\", trainable=False),  \n",
        "    tf.keras.layers.Dense(num_classes, activation='softmax')\n",
        "])\n",
        "base_model.build([None, 240, 240, 3])  \n",
        "\n",
        "\n",
        "dropout_model = DropoutWrapper(base_model, p=0.5)\n",
        "\n",
        "dropout_model.compile(\n",
        "            optimizer=tf.keras.optimizers.Adam(learning_rate = 0.0001),\n",
        "            loss=tf.keras.losses.BinaryCrossentropy(),\n",
        "            metrics=[tf.keras.metrics.BinaryAccuracy()]\n",
        "                     )\n",
        "\n",
        "history = dropout_model.fit(\n",
        "        efficientnet_dataset,\n",
        "        epochs=12,\n",
        "        batch_size=64,\n",
        "  )"
      ],
      "metadata": {
        "id": "eoOywcJC4Oka",
        "outputId": "0471494a-4c09-46f2-9a38-dbe2d048796a",
        "colab": {
          "base_uri": "https://localhost:8080/"
        }
      },
      "execution_count": null,
      "outputs": [
        {
          "output_type": "stream",
          "name": "stdout",
          "text": [
            "Epoch 1/12\n",
            "65/65 [==============================] - 212s 3s/step - dropout_compiled_loss: 0.7917 - dropout_compiled_binary_accuracy: 0.4802 - dropout_wrapper_loss: 0.7380\n",
            "Epoch 2/12\n",
            "65/65 [==============================] - 14s 195ms/step - dropout_compiled_loss: 0.6673 - dropout_compiled_binary_accuracy: 0.4845 - dropout_wrapper_loss: 0.6416\n",
            "Epoch 3/12\n",
            "65/65 [==============================] - 14s 195ms/step - dropout_compiled_loss: 0.6156 - dropout_compiled_binary_accuracy: 0.4836 - dropout_wrapper_loss: 0.5977\n",
            "Epoch 4/12\n",
            "65/65 [==============================] - 14s 197ms/step - dropout_compiled_loss: 0.5749 - dropout_compiled_binary_accuracy: 0.4758 - dropout_wrapper_loss: 0.5707\n",
            "Epoch 5/12\n",
            "65/65 [==============================] - 14s 193ms/step - dropout_compiled_loss: 0.5644 - dropout_compiled_binary_accuracy: 0.4821 - dropout_wrapper_loss: 0.5483\n",
            "Epoch 6/12\n",
            "65/65 [==============================] - 14s 184ms/step - dropout_compiled_loss: 0.5500 - dropout_compiled_binary_accuracy: 0.4740 - dropout_wrapper_loss: 0.5344\n",
            "Epoch 7/12\n",
            "65/65 [==============================] - 13s 176ms/step - dropout_compiled_loss: 0.5344 - dropout_compiled_binary_accuracy: 0.4810 - dropout_wrapper_loss: 0.5176\n",
            "Epoch 8/12\n",
            "65/65 [==============================] - 14s 196ms/step - dropout_compiled_loss: 0.5138 - dropout_compiled_binary_accuracy: 0.4813 - dropout_wrapper_loss: 0.5076\n",
            "Epoch 9/12\n",
            "65/65 [==============================] - 14s 195ms/step - dropout_compiled_loss: 0.5061 - dropout_compiled_binary_accuracy: 0.4903 - dropout_wrapper_loss: 0.4952\n",
            "Epoch 10/12\n",
            "65/65 [==============================] - 14s 198ms/step - dropout_compiled_loss: 0.4969 - dropout_compiled_binary_accuracy: 0.4803 - dropout_wrapper_loss: 0.4855\n",
            "Epoch 11/12\n",
            "65/65 [==============================] - 14s 195ms/step - dropout_compiled_loss: 0.4947 - dropout_compiled_binary_accuracy: 0.4804 - dropout_wrapper_loss: 0.4738\n",
            "Epoch 12/12\n",
            "65/65 [==============================] - 14s 195ms/step - dropout_compiled_loss: 0.4690 - dropout_compiled_binary_accuracy: 0.4787 - dropout_wrapper_loss: 0.4659\n"
          ]
        }
      ]
    },
    {
      "cell_type": "code",
      "source": [
        "\n",
        "vae_encoder = tf.keras.Sequential([\n",
        "    tf.keras.layers.Conv2D(16, 5, strides = 2, padding = \"same\",  activation='relu', input_shape=(64, 64, 3)),#, kernel_regularizer=tf.keras.regularizers.l2(0.001)),  \n",
        "    tf.keras.layers.BatchNormalization(),                                                                       #DP3\n",
        "    tf.keras.layers.Conv2D(32, 5, strides = 2, padding = \"same\", activation='relu'),#, kernel_regularizer=tf.keras.regularizers.l2(0.001)),\n",
        "    tf.keras.layers.BatchNormalization(),\n",
        "    tf.keras.layers.Conv2D(64, 5, strides = 2, padding = \"same\", activation='relu'),#, kernel_regularizer=tf.keras.regularizers.l2(0.001)),\n",
        "    tf.keras.layers.BatchNormalization(),\n",
        "    tf.keras.layers.Conv2D(128, 5, strides = 2, padding = \"same\", activation='relu'),#, kernel_regularizer=tf.keras.regularizers.l2(0.001)),\n",
        "    tf.keras.layers.BatchNormalization(),\n",
        "    tf.keras.layers.Dropout(0.5),                                                                         #DP2\n",
        "    tf.keras.layers.Conv2D(256, 5, strides = 2, padding = \"same\", activation='relu'),#, kernel_regularizer=tf.keras.regularizers.l2(0.001)),\n",
        "    tf.keras.layers.BatchNormalization(),\n",
        "    tf.keras.layers.Flatten(),\n",
        "    tf.keras.layers.Dense(units = 1024, activation='relu'),#, kernel_regularizer=tf.keras.regularizers.l2(0.001)),\n",
        "    tf.keras.layers.Dense(1, activation= None)\n",
        "])\n",
        "\n",
        "vae_encoder.summary()\n",
        "\n",
        "vae_decoder = tf.keras.Sequential([\n",
        "        tf.keras.layers.Dense(units=1*1*64),  \n",
        "        tf.keras.layers.Reshape((1, 1, 64)),\n",
        "        tf.keras.layers.Conv2DTranspose(256, 5,  strides=2, padding = \"same\", activation='relu'),\n",
        "        tf.keras.layers.Conv2DTranspose(128, 5,  strides=2, padding = \"same\", activation='relu'),\n",
        "        tf.keras.layers.Conv2DTranspose(64, 5,  strides=2, padding = \"same\", activation='relu'),\n",
        "        tf.keras.layers.Conv2DTranspose(32, 5,  strides=2, padding = \"same\", activation='relu'),\n",
        "        tf.keras.layers.Conv2DTranspose(16, 5,  strides=2, padding = \"same\", activation='relu'),\n",
        "        tf.keras.layers.Conv2DTranspose(3, 3,  strides=2, padding = \"same\"),\n",
        "    ])\n",
        "\n",
        "vae_model = VAEWrapper(vae_encoder, decoder=vae_decoder)\n",
        "\n",
        "vae_model.compile(\n",
        "    optimizer= tf.keras.optimizers.Adam(learning_rate = 0.0000001),\n",
        "    loss= tf.losses.BinaryCrossentropy(from_logits= True),\n",
        "    metrics= [tf.keras.metrics.BinaryAccuracy()]\n",
        ")\n",
        "\n",
        "history = vae_model.fit(\n",
        "    dataset_path,\n",
        "    epochs=3,                                    \n",
        "    validation_data = dataset_path_val)\n",
        "\n"
      ],
      "metadata": {
        "id": "hUCeEc6jiODR"
      },
      "execution_count": null,
      "outputs": []
    }
  ],
  "metadata": {
    "kernelspec": {
      "display_name": "Python 3.9.7 ('base')",
      "language": "python",
      "name": "python3"
    },
    "language_info": {
      "codemirror_mode": {
        "name": "ipython",
        "version": 3
      },
      "file_extension": ".py",
      "mimetype": "text/x-python",
      "name": "python",
      "nbconvert_exporter": "python",
      "pygments_lexer": "ipython3",
      "version": "3.9.7"
    },
    "orig_nbformat": 4,
    "vscode": {
      "interpreter": {
        "hash": "d4de0671d8054c88a8842951ed8f6115b974e2e5b39cbc2553be5a6678282e63"
      }
    },
    "colab": {
      "provenance": [],
      "gpuType": "T4",
      "include_colab_link": true
    },
    "accelerator": "GPU",
    "gpuClass": "standard"
  },
  "nbformat": 4,
  "nbformat_minor": 0
}