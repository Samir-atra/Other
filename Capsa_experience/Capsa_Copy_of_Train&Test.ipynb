{
  "cells": [
    {
      "cell_type": "markdown",
      "metadata": {
        "colab_type": "text",
        "id": "view-in-github"
      },
      "source": [
        "<a href=\"https://colab.research.google.com/github/Samir-atra/Other/blob/main/Capsa_experience/Capsa_Copy_of_Train%26Test.ipynb\" target=\"_parent\"><img src=\"https://colab.research.google.com/assets/colab-badge.svg\" alt=\"Open In Colab\"/></a>"
      ]
    },
    {
      "cell_type": "code",
      "execution_count": 10,
      "metadata": {
        "colab": {
          "base_uri": "https://localhost:8080/"
        },
        "id": "d6vfxK_0Ptlr",
        "outputId": "91102d01-2b9b-4b47-b6d6-ea222145ddb6"
      },
      "outputs": [
        {
          "name": "stdout",
          "output_type": "stream",
          "text": [
            "Drive already mounted at /content/drive; to attempt to forcibly remount, call drive.mount(\"/content/drive\", force_remount=True).\n",
            "[Errno 2] No such file or directory: 'drive/MyDrive/capsa-main-folder'\n",
            "/content/drive/.shortcut-targets-by-id/1XCrJCA5oUiJAyoSgAsLKpYFvzqyKrmxc/capsa-main-folder\n",
            "running install\n",
            "/usr/local/lib/python3.10/dist-packages/setuptools/_distutils/cmd.py:66: SetuptoolsDeprecationWarning: setup.py install is deprecated.\n",
            "!!\n",
            "\n",
            "        ********************************************************************************\n",
            "        Please avoid running ``setup.py`` directly.\n",
            "        Instead, use pypa/build, pypa/installer, pypa/build or\n",
            "        other standards-based tools.\n",
            "\n",
            "        See https://blog.ganssle.io/articles/2021/10/setup-py-deprecated.html for details.\n",
            "        ********************************************************************************\n",
            "\n",
            "!!\n",
            "  self.initialize_options()\n",
            "/usr/local/lib/python3.10/dist-packages/setuptools/_distutils/cmd.py:66: EasyInstallDeprecationWarning: easy_install command is deprecated.\n",
            "!!\n",
            "\n",
            "        ********************************************************************************\n",
            "        Please avoid running ``setup.py`` and ``easy_install``.\n",
            "        Instead, use pypa/build, pypa/installer, pypa/build or\n",
            "        other standards-based tools.\n",
            "\n",
            "        See https://github.com/pypa/setuptools/issues/917 for details.\n",
            "        ********************************************************************************\n",
            "\n",
            "!!\n",
            "  self.initialize_options()\n",
            "running bdist_egg\n",
            "running egg_info\n",
            "writing capsa.egg-info/PKG-INFO\n",
            "writing dependency_links to capsa.egg-info/dependency_links.txt\n",
            "writing top-level names to capsa.egg-info/top_level.txt\n",
            "reading manifest file 'capsa.egg-info/SOURCES.txt'\n",
            "adding license file 'LICENSE'\n",
            "writing manifest file 'capsa.egg-info/SOURCES.txt'\n",
            "installing library code to build/bdist.linux-x86_64/egg\n",
            "running install_lib\n",
            "running build_py\n",
            "creating build/bdist.linux-x86_64/egg\n",
            "creating build/bdist.linux-x86_64/egg/capsa\n",
            "copying build/lib/capsa/__init__.py -> build/bdist.linux-x86_64/egg/capsa\n",
            "copying build/lib/capsa/base_wrapper.py -> build/bdist.linux-x86_64/egg/capsa\n",
            "copying build/lib/capsa/risk_tensor.py -> build/bdist.linux-x86_64/egg/capsa\n",
            "creating build/bdist.linux-x86_64/egg/capsa/aleatoric\n",
            "copying build/lib/capsa/aleatoric/__init__.py -> build/bdist.linux-x86_64/egg/capsa/aleatoric\n",
            "copying build/lib/capsa/aleatoric/mve.py -> build/bdist.linux-x86_64/egg/capsa/aleatoric\n",
            "creating build/bdist.linux-x86_64/egg/capsa/bias\n",
            "copying build/lib/capsa/bias/__init__.py -> build/bdist.linux-x86_64/egg/capsa/bias\n",
            "copying build/lib/capsa/bias/histogram.py -> build/bdist.linux-x86_64/egg/capsa/bias\n",
            "copying build/lib/capsa/bias/histogramvae.py -> build/bdist.linux-x86_64/egg/capsa/bias\n",
            "creating build/bdist.linux-x86_64/egg/capsa/epistemic\n",
            "copying build/lib/capsa/epistemic/__init__.py -> build/bdist.linux-x86_64/egg/capsa/epistemic\n",
            "copying build/lib/capsa/epistemic/dropout.py -> build/bdist.linux-x86_64/egg/capsa/epistemic\n",
            "copying build/lib/capsa/epistemic/ensemble.py -> build/bdist.linux-x86_64/egg/capsa/epistemic\n",
            "copying build/lib/capsa/epistemic/vae.py -> build/bdist.linux-x86_64/egg/capsa/epistemic\n",
            "creating build/bdist.linux-x86_64/egg/capsa/utils\n",
            "copying build/lib/capsa/utils/__init__.py -> build/bdist.linux-x86_64/egg/capsa/utils\n",
            "copying build/lib/capsa/utils/utils.py -> build/bdist.linux-x86_64/egg/capsa/utils\n",
            "byte-compiling build/bdist.linux-x86_64/egg/capsa/__init__.py to __init__.cpython-310.pyc\n",
            "byte-compiling build/bdist.linux-x86_64/egg/capsa/base_wrapper.py to base_wrapper.cpython-310.pyc\n",
            "byte-compiling build/bdist.linux-x86_64/egg/capsa/risk_tensor.py to risk_tensor.cpython-310.pyc\n",
            "byte-compiling build/bdist.linux-x86_64/egg/capsa/aleatoric/__init__.py to __init__.cpython-310.pyc\n",
            "byte-compiling build/bdist.linux-x86_64/egg/capsa/aleatoric/mve.py to mve.cpython-310.pyc\n",
            "byte-compiling build/bdist.linux-x86_64/egg/capsa/bias/__init__.py to __init__.cpython-310.pyc\n",
            "byte-compiling build/bdist.linux-x86_64/egg/capsa/bias/histogram.py to histogram.cpython-310.pyc\n",
            "byte-compiling build/bdist.linux-x86_64/egg/capsa/bias/histogramvae.py to histogramvae.cpython-310.pyc\n",
            "byte-compiling build/bdist.linux-x86_64/egg/capsa/epistemic/__init__.py to __init__.cpython-310.pyc\n",
            "byte-compiling build/bdist.linux-x86_64/egg/capsa/epistemic/dropout.py to dropout.cpython-310.pyc\n",
            "byte-compiling build/bdist.linux-x86_64/egg/capsa/epistemic/ensemble.py to ensemble.cpython-310.pyc\n",
            "byte-compiling build/bdist.linux-x86_64/egg/capsa/epistemic/vae.py to vae.cpython-310.pyc\n",
            "byte-compiling build/bdist.linux-x86_64/egg/capsa/utils/__init__.py to __init__.cpython-310.pyc\n",
            "byte-compiling build/bdist.linux-x86_64/egg/capsa/utils/utils.py to utils.cpython-310.pyc\n",
            "creating build/bdist.linux-x86_64/egg/EGG-INFO\n",
            "copying capsa.egg-info/PKG-INFO -> build/bdist.linux-x86_64/egg/EGG-INFO\n",
            "copying capsa.egg-info/SOURCES.txt -> build/bdist.linux-x86_64/egg/EGG-INFO\n",
            "copying capsa.egg-info/dependency_links.txt -> build/bdist.linux-x86_64/egg/EGG-INFO\n",
            "copying capsa.egg-info/not-zip-safe -> build/bdist.linux-x86_64/egg/EGG-INFO\n",
            "copying capsa.egg-info/top_level.txt -> build/bdist.linux-x86_64/egg/EGG-INFO\n",
            "creating 'dist/capsa-0.1.5-py3.10.egg' and adding 'build/bdist.linux-x86_64/egg' to it\n",
            "removing 'build/bdist.linux-x86_64/egg' (and everything under it)\n",
            "Processing capsa-0.1.5-py3.10.egg\n",
            "removing '/usr/local/lib/python3.10/dist-packages/capsa-0.1.5-py3.10.egg' (and everything under it)\n",
            "creating /usr/local/lib/python3.10/dist-packages/capsa-0.1.5-py3.10.egg\n",
            "Extracting capsa-0.1.5-py3.10.egg to /usr/local/lib/python3.10/dist-packages\n",
            "capsa 0.1.5 is already the active version in easy-install.pth\n",
            "\n",
            "Installed /usr/local/lib/python3.10/dist-packages/capsa-0.1.5-py3.10.egg\n",
            "Processing dependencies for capsa==0.1.5\n",
            "Finished processing dependencies for capsa==0.1.5\n",
            "Looking in indexes: https://pypi.org/simple, https://us-python.pkg.dev/colab-wheels/public/simple/\n",
            "Collecting git+https://github.com/aamini/introtodeeplearning.git@2023\n",
            "  Cloning https://github.com/aamini/introtodeeplearning.git (to revision 2023) to /tmp/pip-req-build-b3a088mu\n",
            "  Running command git clone --filter=blob:none --quiet https://github.com/aamini/introtodeeplearning.git /tmp/pip-req-build-b3a088mu\n",
            "  Running command git checkout -b 2023 --track origin/2023\n",
            "  Switched to a new branch '2023'\n",
            "  Branch '2023' set up to track remote branch '2023' from 'origin'.\n",
            "  Resolved https://github.com/aamini/introtodeeplearning.git to commit ed7501323f5b3f0f865db898b1ce6a0528df1586\n",
            "  Preparing metadata (setup.py) ... \u001b[?25l\u001b[?25hdone\n",
            "Requirement already satisfied: numpy in /usr/local/lib/python3.10/dist-packages (from mitdeeplearning==0.4.0) (1.22.4)\n",
            "Requirement already satisfied: regex in /usr/local/lib/python3.10/dist-packages (from mitdeeplearning==0.4.0) (2022.10.31)\n",
            "Requirement already satisfied: tqdm in /usr/local/lib/python3.10/dist-packages (from mitdeeplearning==0.4.0) (4.65.0)\n",
            "Requirement already satisfied: gym in /usr/local/lib/python3.10/dist-packages (from mitdeeplearning==0.4.0) (0.25.2)\n",
            "Requirement already satisfied: cloudpickle>=1.2.0 in /usr/local/lib/python3.10/dist-packages (from gym->mitdeeplearning==0.4.0) (2.2.1)\n",
            "Requirement already satisfied: gym-notices>=0.0.4 in /usr/local/lib/python3.10/dist-packages (from gym->mitdeeplearning==0.4.0) (0.0.8)\n",
            "Looking in indexes: https://pypi.org/simple, https://us-python.pkg.dev/colab-wheels/public/simple/\n",
            "Requirement already satisfied: helper in /usr/local/lib/python3.10/dist-packages (2.5.0)\n",
            "Requirement already satisfied: pyyaml in /usr/local/lib/python3.10/dist-packages (from helper) (6.0)\n"
          ]
        }
      ],
      "source": [
        "# Imports\n",
        "\n",
        "from google.colab import drive             \n",
        "drive.mount('/content/drive')\n",
        "\n",
        "import tensorflow as tf\n",
        "import tensorflow_hub as hub\n",
        "import numpy as np\n",
        "import os\n",
        "import pathlib\n",
        "import IPython\n",
        "import sys\n",
        "import matplotlib.pyplot as plt\n",
        "!pip install keras_tuner -q\n",
        "import keras_tuner\n",
        "# !pip install git+https://github.com/themis-ai/capsa.git\n",
        "%cd drive/MyDrive/capsa-main-folder\n",
        "!python setup.py install\n",
        "import capsa\n",
        "!pip install git+https://github.com/aamini/introtodeeplearning.git@2023\n",
        "import mitdeeplearning as mdl\n",
        "from capsa import EnsembleWrapper, DropoutWrapper, VAEWrapper\n",
        "!pip install helper\n",
        "import helper\n",
        "from array_dataset import dataset\n",
        "\n"
      ]
    },
    {
      "cell_type": "code",
      "execution_count": 12,
      "metadata": {
        "colab": {
          "base_uri": "https://localhost:8080/"
        },
        "id": "vfp3guitPtlt",
        "outputId": "2fbfecc7-55ad-4f91-f9ad-5c764c8fcb45"
      },
      "outputs": [
        {
          "name": "stdout",
          "output_type": "stream",
          "text": [
            "Found 4096 files belonging to 2 classes.\n",
            "Found 931 files belonging to 2 classes.\n",
            "Found 4096 files belonging to 2 classes.\n"
          ]
        }
      ],
      "source": [
        "# Dataset loading\n",
        "\n",
        "data_path = pathlib.Path('/content/drive/MyDrive/archiveX3/Training/')\n",
        "data_path_test = pathlib.Path('/content/drive/MyDrive/archiveX3/Testing/')\n",
        "\n",
        "dataset_path = tf.keras.utils.image_dataset_from_directory(\n",
        "    data_path,\n",
        "    labels= 'inferred',\n",
        "    # validation_split=0.2,\n",
        "    # subset='training',\n",
        "    seed= 1,\n",
        "    batch_size=64,\n",
        "    image_size=(64, 64),\n",
        "    color_mode=\"rgb\")\n",
        "    # shuffle=True)\n",
        "\n",
        "test_images, test_labels = dataset(data_path)\n",
        "\n",
        "dataset_path_test = tf.keras.utils.image_dataset_from_directory(\n",
        "    data_path_test,\n",
        "    labels= 'inferred',\n",
        "    seed= 3,\n",
        "    batch_size=64,\n",
        "    image_size=(64, 64),\n",
        "    color_mode=\"rgb\")\n",
        "    # shuffle=True)\n",
        "\n",
        "efficientnet_dataset = tf.keras.utils.image_dataset_from_directory(\n",
        "    data_path,\n",
        "    labels= 'inferred',\n",
        "    seed= 3,\n",
        "    batch_size=64,\n",
        "    image_size=(240, 240),\n",
        "    color_mode=\"rgb\")\n",
        "\n",
        "num_classes = 1\n",
        "\n"
      ]
    },
    {
      "cell_type": "code",
      "execution_count": 15,
      "metadata": {
        "id": "HqkZqKoNbKMh"
      },
      "outputs": [],
      "source": [
        "# Encoder, Decoder, and transfer learning base model\n",
        "\n",
        "\n",
        "encoder = tf.keras.Sequential([\n",
        "    tf.keras.Input(shape=(64, 64, 3)),\n",
        "    tf.keras.layers.Conv2D(16, 3, strides = 2, padding = \"same\",  activation='relu'),#, kernel_regularizer=tf.keras.regularizers.l2(0.001)),  \n",
        "    tf.keras.layers.BatchNormalization(),\n",
        "    tf.keras.layers.Dropout(0.5),                                                                         #DP1\n",
        "    tf.keras.layers.Conv2D(32, 3, strides = 2, padding = \"same\", activation='relu'),#, kernel_regularizer=tf.keras.regularizers.l2(0.001)),\n",
        "    tf.keras.layers.BatchNormalization(),\n",
        "    tf.keras.layers.Dropout(0.5),                                                                         #DP2\n",
        "    tf.keras.layers.Conv2D(64, 3, strides = 2, padding = \"same\", activation='relu'),#, kernel_regularizer=tf.keras.regularizers.l2(0.001)),\n",
        "    tf.keras.layers.BatchNormalization(),\n",
        "    tf.keras.layers.Dropout(0.5),\n",
        "    tf.keras.layers.Conv2D(128, 1, strides = 2, padding = \"same\", activation='relu'),#, kernel_regularizer=tf.keras.regularizers.l2(0.001)),\n",
        "    tf.keras.layers.BatchNormalization(),\n",
        "    tf.keras.layers.Dropout(0.7),                                                                         #DP3\n",
        "    tf.keras.layers.Flatten(),\n",
        "    tf.keras.layers.Dense(units = 512, activation='relu'),#, kernel_regularizer=tf.keras.regularizers.l2(0.001)),\n",
        "    tf.keras.layers.Dropout(0.2),                                                                         #DP4                                                                        #DP5\n",
        "    tf.keras.layers.Dense(num_classes, activation= None)\n",
        "])\n",
        "\n",
        "\n",
        "decoder = tf.keras.Sequential([\n",
        "        tf.keras.layers.Dense(units=4*4*128),  \n",
        "        tf.keras.layers.Reshape((4, 4, 128)),\n",
        "        tf.keras.layers.Conv2DTranspose(64, 1,  strides=2, padding = \"same\", activation='relu'),\n",
        "        tf.keras.layers.Conv2DTranspose(32, 3,  strides=2, padding = \"same\", activation='relu'),\n",
        "        tf.keras.layers.Conv2DTranspose(16, 3,  strides=2, padding = \"same\", activation='relu'),\n",
        "        tf.keras.layers.Conv2DTranspose(3, 3,  strides=2, padding = \"same\"),\n",
        "    ])\n",
        "\n",
        "base_model = tf.keras.Sequential([\n",
        "    hub.KerasLayer(\"https://tfhub.dev/google/imagenet/efficientnet_v2_imagenet1k_b1/feature_vector/2\", trainable=False),  \n",
        "    tf.keras.layers.Dense(num_classes, activation='softmax')\n",
        "])\n",
        "base_model.build([None, 240, 240, 3]) \n"
      ]
    },
    {
      "cell_type": "code",
      "execution_count": 17,
      "metadata": {
        "colab": {
          "base_uri": "https://localhost:8080/",
          "height": 504
        },
        "id": "iRcBsS7hk17a",
        "outputId": "78611d07-e855-4aa4-8925-40f603e74133"
      },
      "outputs": [
        {
          "name": "stdout",
          "output_type": "stream",
          "text": [
            "Epoch 1/30\n"
          ]
        },
        {
          "name": "stderr",
          "output_type": "stream",
          "text": [
            "WARNING:tensorflow:Gradients do not exist for variables ['dense_17/kernel:0', 'dense_17/bias:0'] when minimizing the loss. If you're using `model.compile()`, did you forget to provide a `loss` argument?\n",
            "WARNING:tensorflow:Gradients do not exist for variables ['dense_17/kernel:0', 'dense_17/bias:0'] when minimizing the loss. If you're using `model.compile()`, did you forget to provide a `loss` argument?\n",
            "WARNING:tensorflow:Gradients do not exist for variables ['dense_17/kernel:0', 'dense_17/bias:0'] when minimizing the loss. If you're using `model.compile()`, did you forget to provide a `loss` argument?\n",
            "WARNING:tensorflow:Gradients do not exist for variables ['dense_17/kernel:0', 'dense_17/bias:0'] when minimizing the loss. If you're using `model.compile()`, did you forget to provide a `loss` argument?\n"
          ]
        },
        {
          "name": "stdout",
          "output_type": "stream",
          "text": [
            "64/64 [==============================] - 16s 110ms/step - vae_compiled_loss: nan - vae_compiled_binary_accuracy: 0.5218 - vae_wrapper_loss: nan\n"
          ]
        },
        {
          "ename": "KeyboardInterrupt",
          "evalue": "ignored",
          "output_type": "error",
          "traceback": [
            "\u001b[0;31m---------------------------------------------------------------------------\u001b[0m",
            "\u001b[0;31mKeyboardInterrupt\u001b[0m                         Traceback (most recent call last)",
            "\u001b[0;32m<ipython-input-17-2bf3b2be1f4a>\u001b[0m in \u001b[0;36m<cell line: 12>\u001b[0;34m()\u001b[0m\n\u001b[1;32m     10\u001b[0m \u001b[0;34m\u001b[0m\u001b[0m\n\u001b[1;32m     11\u001b[0m \u001b[0;34m\u001b[0m\u001b[0m\n\u001b[0;32m---> 12\u001b[0;31m history = wrapped_model.fit(\n\u001b[0m\u001b[1;32m     13\u001b[0m     \u001b[0mdataset_path\u001b[0m\u001b[0;34m,\u001b[0m\u001b[0;34m\u001b[0m\u001b[0;34m\u001b[0m\u001b[0m\n\u001b[1;32m     14\u001b[0m     epochs=30)                                    \n",
            "\u001b[0;32m/usr/local/lib/python3.10/dist-packages/keras/utils/traceback_utils.py\u001b[0m in \u001b[0;36merror_handler\u001b[0;34m(*args, **kwargs)\u001b[0m\n\u001b[1;32m     63\u001b[0m         \u001b[0mfiltered_tb\u001b[0m \u001b[0;34m=\u001b[0m \u001b[0;32mNone\u001b[0m\u001b[0;34m\u001b[0m\u001b[0;34m\u001b[0m\u001b[0m\n\u001b[1;32m     64\u001b[0m         \u001b[0;32mtry\u001b[0m\u001b[0;34m:\u001b[0m\u001b[0;34m\u001b[0m\u001b[0;34m\u001b[0m\u001b[0m\n\u001b[0;32m---> 65\u001b[0;31m             \u001b[0;32mreturn\u001b[0m \u001b[0mfn\u001b[0m\u001b[0;34m(\u001b[0m\u001b[0;34m*\u001b[0m\u001b[0margs\u001b[0m\u001b[0;34m,\u001b[0m \u001b[0;34m**\u001b[0m\u001b[0mkwargs\u001b[0m\u001b[0;34m)\u001b[0m\u001b[0;34m\u001b[0m\u001b[0;34m\u001b[0m\u001b[0m\n\u001b[0m\u001b[1;32m     66\u001b[0m         \u001b[0;32mexcept\u001b[0m \u001b[0mException\u001b[0m \u001b[0;32mas\u001b[0m \u001b[0me\u001b[0m\u001b[0;34m:\u001b[0m\u001b[0;34m\u001b[0m\u001b[0;34m\u001b[0m\u001b[0m\n\u001b[1;32m     67\u001b[0m             \u001b[0mfiltered_tb\u001b[0m \u001b[0;34m=\u001b[0m \u001b[0m_process_traceback_frames\u001b[0m\u001b[0;34m(\u001b[0m\u001b[0me\u001b[0m\u001b[0;34m.\u001b[0m\u001b[0m__traceback__\u001b[0m\u001b[0;34m)\u001b[0m\u001b[0;34m\u001b[0m\u001b[0;34m\u001b[0m\u001b[0m\n",
            "\u001b[0;32m/usr/local/lib/python3.10/dist-packages/keras/engine/training.py\u001b[0m in \u001b[0;36mfit\u001b[0;34m(self, x, y, batch_size, epochs, verbose, callbacks, validation_split, validation_data, shuffle, class_weight, sample_weight, initial_epoch, steps_per_epoch, validation_steps, validation_batch_size, validation_freq, max_queue_size, workers, use_multiprocessing)\u001b[0m\n\u001b[1;32m   1671\u001b[0m             \u001b[0mlogs\u001b[0m \u001b[0;34m=\u001b[0m \u001b[0;32mNone\u001b[0m\u001b[0;34m\u001b[0m\u001b[0;34m\u001b[0m\u001b[0m\n\u001b[1;32m   1672\u001b[0m             \u001b[0;32mfor\u001b[0m \u001b[0mepoch\u001b[0m\u001b[0;34m,\u001b[0m \u001b[0miterator\u001b[0m \u001b[0;32min\u001b[0m \u001b[0mdata_handler\u001b[0m\u001b[0;34m.\u001b[0m\u001b[0menumerate_epochs\u001b[0m\u001b[0;34m(\u001b[0m\u001b[0;34m)\u001b[0m\u001b[0;34m:\u001b[0m\u001b[0;34m\u001b[0m\u001b[0;34m\u001b[0m\u001b[0m\n\u001b[0;32m-> 1673\u001b[0;31m                 \u001b[0mself\u001b[0m\u001b[0;34m.\u001b[0m\u001b[0mreset_metrics\u001b[0m\u001b[0;34m(\u001b[0m\u001b[0;34m)\u001b[0m\u001b[0;34m\u001b[0m\u001b[0;34m\u001b[0m\u001b[0m\n\u001b[0m\u001b[1;32m   1674\u001b[0m                 \u001b[0mcallbacks\u001b[0m\u001b[0;34m.\u001b[0m\u001b[0mon_epoch_begin\u001b[0m\u001b[0;34m(\u001b[0m\u001b[0mepoch\u001b[0m\u001b[0;34m)\u001b[0m\u001b[0;34m\u001b[0m\u001b[0;34m\u001b[0m\u001b[0m\n\u001b[1;32m   1675\u001b[0m                 \u001b[0;32mwith\u001b[0m \u001b[0mdata_handler\u001b[0m\u001b[0;34m.\u001b[0m\u001b[0mcatch_stop_iteration\u001b[0m\u001b[0;34m(\u001b[0m\u001b[0;34m)\u001b[0m\u001b[0;34m:\u001b[0m\u001b[0;34m\u001b[0m\u001b[0;34m\u001b[0m\u001b[0m\n",
            "\u001b[0;32m/usr/local/lib/python3.10/dist-packages/keras/engine/training.py\u001b[0m in \u001b[0;36mreset_metrics\u001b[0;34m(self)\u001b[0m\n\u001b[1;32m   2426\u001b[0m         \u001b[0;32mreturn\u001b[0m \u001b[0mtf_utils\u001b[0m\u001b[0;34m.\u001b[0m\u001b[0msync_to_numpy_or_python_type\u001b[0m\u001b[0;34m(\u001b[0m\u001b[0mall_outputs\u001b[0m\u001b[0;34m)\u001b[0m\u001b[0;34m\u001b[0m\u001b[0;34m\u001b[0m\u001b[0m\n\u001b[1;32m   2427\u001b[0m \u001b[0;34m\u001b[0m\u001b[0m\n\u001b[0;32m-> 2428\u001b[0;31m     \u001b[0;32mdef\u001b[0m \u001b[0mreset_metrics\u001b[0m\u001b[0;34m(\u001b[0m\u001b[0mself\u001b[0m\u001b[0;34m)\u001b[0m\u001b[0;34m:\u001b[0m\u001b[0;34m\u001b[0m\u001b[0;34m\u001b[0m\u001b[0m\n\u001b[0m\u001b[1;32m   2429\u001b[0m         \"\"\"Resets the state of all the metrics in the model.\n\u001b[1;32m   2430\u001b[0m \u001b[0;34m\u001b[0m\u001b[0m\n",
            "\u001b[0;31mKeyboardInterrupt\u001b[0m: "
          ]
        }
      ],
      "source": [
        "# HistogramVAE Wrapper\n",
        "\n",
        "wrapped_model = capsa.HistogramVAEWrapper(encoder, num_bins=5, queue_size=20000, latent_dim = 64, decoder=decoder)\n",
        "\n",
        "wrapped_model.compile(\n",
        "    optimizer= tf.keras.optimizers.Adam(learning_rate = 0.001),\n",
        "    loss= tf.losses.BinaryCrossentropy(from_logits= True),\n",
        "    metrics= [tf.keras.metrics.BinaryAccuracy()]\n",
        ")\n",
        "\n",
        "\n",
        "history = wrapped_model.fit(\n",
        "    dataset_path,\n",
        "    epochs=30)                                    \n",
        "    #validation_data = dataset_path_val)\n",
        "\n",
        "\n",
        "out = wrapped_model.predict(test_images, batch_size=512)\n",
        "\n",
        "indices = np.argsort(out.bias, axis=None) \n",
        "sorted_images = test_images[indices]\n",
        "sorted_biases = out.bias.numpy()[indices]\n",
        "sorted_preds = out.y_hat.numpy()[indices]\n",
        "\n",
        "fig, ax = plt.subplots(1, 2, figsize=(16, 8))\n",
        "ax[0].imshow(mdl.util.create_grid_of_images(sorted_images[-20:], (4, 5)))\n",
        "ax[0].set_title(\"Over-represented\")\n",
        "\n",
        "ax[1].imshow(mdl.util.create_grid_of_images(sorted_images[:20], (4, 5)))\n",
        "ax[1].set_title(\"Under-represented\");\n",
        "\n",
        "plt.xlabel(\"Density (Representation)\")\n",
        "plt.ylabel(\"Accuracy\")\n",
        "averaged_imgs = mdl.lab3.plot_accuracy_vs_risk(sorted_images, sorted_biases, sorted_preds, \"Bias vs. Accuracy\")\n",
        "plt.show()\n",
        "\n",
        "fig, ax = plt.subplots(figsize=(15,5))\n",
        "ax.imshow(mdl.util.create_grid_of_images(averaged_imgs, (1,10)))"
      ]
    },
    {
      "cell_type": "code",
      "execution_count": null,
      "metadata": {
        "colab": {
          "base_uri": "https://localhost:8080/"
        },
        "id": "Pq5nyLc-JMYL",
        "outputId": "79d20a34-724b-4a37-ed7c-3352aa46bd71"
      },
      "outputs": [
        {
          "name": "stdout",
          "output_type": "stream",
          "text": [
            "Epoch 1/6\n"
          ]
        },
        {
          "name": "stderr",
          "output_type": "stream",
          "text": [
            "WARNING:tensorflow:Gradients do not exist for variables ['dense_1/kernel:0', 'dense_1/bias:0'] when minimizing the loss. If you're using `model.compile()`, did you forget to provide a `loss` argument?\n",
            "WARNING:tensorflow:Gradients do not exist for variables ['dense_1/kernel:0', 'dense_1/bias:0'] when minimizing the loss. If you're using `model.compile()`, did you forget to provide a `loss` argument?\n",
            "WARNING:tensorflow:Gradients do not exist for variables ['dense_1/kernel:0', 'dense_1/bias:0'] when minimizing the loss. If you're using `model.compile()`, did you forget to provide a `loss` argument?\n",
            "WARNING:tensorflow:Gradients do not exist for variables ['dense_1/kernel:0', 'dense_1/bias:0'] when minimizing the loss. If you're using `model.compile()`, did you forget to provide a `loss` argument?\n"
          ]
        },
        {
          "name": "stdout",
          "output_type": "stream",
          "text": [
            "64/64 [==============================] - 16s 104ms/step - mve_compiled_loss: 0.8749 - mve_compiled_binary_accuracy: 0.6866 - mve_wrapper_loss: 129.8828\n",
            "Epoch 2/6\n",
            "64/64 [==============================] - 8s 108ms/step - mve_compiled_loss: 0.6941 - mve_compiled_binary_accuracy: 0.7684 - mve_wrapper_loss: 129.8919\n",
            "Epoch 3/6\n",
            "64/64 [==============================] - 7s 97ms/step - mve_compiled_loss: 0.5540 - mve_compiled_binary_accuracy: 0.7901 - mve_wrapper_loss: 129.9135\n",
            "Epoch 4/6\n",
            "64/64 [==============================] - 8s 116ms/step - mve_compiled_loss: 0.4791 - mve_compiled_binary_accuracy: 0.8136 - mve_wrapper_loss: 129.7840\n",
            "Epoch 5/6\n",
            "64/64 [==============================] - 7s 96ms/step - mve_compiled_loss: 0.4462 - mve_compiled_binary_accuracy: 0.8215 - mve_wrapper_loss: 129.6052\n",
            "Epoch 6/6\n",
            "64/64 [==============================] - 8s 116ms/step - mve_compiled_loss: 0.4258 - mve_compiled_binary_accuracy: 0.8231 - mve_wrapper_loss: 130.0332\n"
          ]
        }
      ],
      "source": [
        "# MVE Wrapper\n",
        "\n",
        "mve_model = capsa.MVEWrapper(encoder, is_classification=True)\n",
        "# mve_model = capsa.MVEWrapper(base_model, is_classification=True)\n",
        "\n",
        "\n",
        "mve_model.compile(\n",
        "    optimizer=tf.keras.optimizers.Adam(learning_rate=5e-4),\n",
        "    loss=tf.keras.losses.BinaryCrossentropy(from_logits=True), \n",
        "    metrics=[tf.keras.metrics.BinaryAccuracy()], \n",
        "    run_eagerly=True\n",
        ")\n",
        "\n",
        "history = mve_model.fit(\n",
        "        dataset_path,\n",
        "        epochs=6,\n",
        "        batch_size=64,\n",
        "  )\n",
        "\n",
        "normalization_layer = tf.keras.layers.Rescaling(1./255)\n",
        "normalized_train_ds = dataset_path.map(lambda x, y: (normalization_layer(x), y))\n",
        "normalized_test_ds = dataset_path_test.map(lambda x, y: (normalization_layer(x), y))\n",
        "\n",
        "images = np.vstack((normalized_test_ds, normalized_train_ds))\n"
      ]
    },
    {
      "cell_type": "code",
      "execution_count": null,
      "metadata": {
        "colab": {
          "base_uri": "https://localhost:8080/"
        },
        "id": "hmGa4UoEwuwS",
        "outputId": "52ea3a27-65bd-4a68-b5bd-4d021f01cf36"
      },
      "outputs": [
        {
          "name": "stdout",
          "output_type": "stream",
          "text": [
            "Epoch 1/12\n",
            "64/64 [==============================] - 13s 116ms/step - usermodel_0_compiled_loss: 5.3524 - usermodel_0_compiled_binary_accuracy: 0.6049\n",
            "Epoch 2/12\n",
            "64/64 [==============================] - 8s 103ms/step - usermodel_0_compiled_loss: 4.7342 - usermodel_0_compiled_binary_accuracy: 0.6634\n",
            "Epoch 3/12\n",
            "64/64 [==============================] - 8s 112ms/step - usermodel_0_compiled_loss: 4.6342 - usermodel_0_compiled_binary_accuracy: 0.6762\n",
            "Epoch 4/12\n",
            "64/64 [==============================] - 7s 96ms/step - usermodel_0_compiled_loss: 4.5608 - usermodel_0_compiled_binary_accuracy: 0.6850\n",
            "Epoch 5/12\n",
            "64/64 [==============================] - 8s 116ms/step - usermodel_0_compiled_loss: 4.4383 - usermodel_0_compiled_binary_accuracy: 0.6953\n",
            "Epoch 6/12\n",
            "64/64 [==============================] - 7s 95ms/step - usermodel_0_compiled_loss: 4.3663 - usermodel_0_compiled_binary_accuracy: 0.7008\n",
            "Epoch 7/12\n",
            "64/64 [==============================] - 8s 116ms/step - usermodel_0_compiled_loss: 4.2796 - usermodel_0_compiled_binary_accuracy: 0.7072\n",
            "Epoch 8/12\n",
            "64/64 [==============================] - 7s 96ms/step - usermodel_0_compiled_loss: 4.2003 - usermodel_0_compiled_binary_accuracy: 0.7134\n",
            "Epoch 9/12\n",
            "64/64 [==============================] - 8s 115ms/step - usermodel_0_compiled_loss: 4.1250 - usermodel_0_compiled_binary_accuracy: 0.7191\n",
            "Epoch 10/12\n",
            "64/64 [==============================] - 7s 99ms/step - usermodel_0_compiled_loss: 4.0476 - usermodel_0_compiled_binary_accuracy: 0.7249\n",
            "Epoch 11/12\n",
            "64/64 [==============================] - 8s 107ms/step - usermodel_0_compiled_loss: 4.0167 - usermodel_0_compiled_binary_accuracy: 0.7278\n",
            "Epoch 12/12\n",
            "64/64 [==============================] - 8s 109ms/step - usermodel_0_compiled_loss: 4.0044 - usermodel_0_compiled_binary_accuracy: 0.7295\n"
          ]
        }
      ],
      "source": [
        "# Ensemble Wrapper\n",
        "\n",
        "Ensemble_wrapped_model = EnsembleWrapper(encoder, num_members=1)\n",
        "\n",
        "\n",
        "Ensemble_wrapped_model.compile(\n",
        "            optimizer=tf.keras.optimizers.Adam(),\n",
        "            loss=tf.keras.losses.BinaryCrossentropy(),\n",
        "            metrics=[tf.keras.metrics.BinaryAccuracy()]\n",
        "                     )\n",
        "\n",
        "history = Ensemble_wrapped_model.fit(\n",
        "        dataset_path,\n",
        "        epochs=12,\n",
        "        batch_size=64,\n",
        "  )\n",
        "\n"
      ]
    },
    {
      "cell_type": "code",
      "execution_count": null,
      "metadata": {
        "colab": {
          "base_uri": "https://localhost:8080/"
        },
        "id": "eoOywcJC4Oka",
        "outputId": "6a0f2ea0-58bb-44f8-f3b4-8e0eaf7b526f"
      },
      "outputs": [
        {
          "name": "stdout",
          "output_type": "stream",
          "text": [
            "Epoch 1/12\n",
            "64/64 [==============================] - 11s 93ms/step - dropout_compiled_loss: 4.7235 - dropout_compiled_binary_accuracy: 0.6036 - dropout_wrapper_loss: 4.5719\n",
            "Epoch 2/12\n",
            "64/64 [==============================] - 8s 116ms/step - dropout_compiled_loss: 4.4896 - dropout_compiled_binary_accuracy: 0.6457 - dropout_wrapper_loss: 4.4659\n",
            "Epoch 3/12\n",
            "64/64 [==============================] - 7s 99ms/step - dropout_compiled_loss: 4.1457 - dropout_compiled_binary_accuracy: 0.6689 - dropout_wrapper_loss: 4.1899\n",
            "Epoch 4/12\n",
            "64/64 [==============================] - 7s 95ms/step - dropout_compiled_loss: 4.3173 - dropout_compiled_binary_accuracy: 0.6628 - dropout_wrapper_loss: 4.1153\n",
            "Epoch 5/12\n",
            "64/64 [==============================] - 8s 114ms/step - dropout_compiled_loss: 4.0278 - dropout_compiled_binary_accuracy: 0.6916 - dropout_wrapper_loss: 3.8949\n",
            "Epoch 6/12\n",
            "64/64 [==============================] - 7s 95ms/step - dropout_compiled_loss: 4.1148 - dropout_compiled_binary_accuracy: 0.6767 - dropout_wrapper_loss: 4.0321\n",
            "Epoch 7/12\n",
            "64/64 [==============================] - 8s 115ms/step - dropout_compiled_loss: 3.8440 - dropout_compiled_binary_accuracy: 0.6973 - dropout_wrapper_loss: 3.8052\n",
            "Epoch 8/12\n",
            "64/64 [==============================] - 7s 100ms/step - dropout_compiled_loss: 3.9280 - dropout_compiled_binary_accuracy: 0.6986 - dropout_wrapper_loss: 3.9042\n",
            "Epoch 9/12\n",
            "64/64 [==============================] - 8s 105ms/step - dropout_compiled_loss: 3.5600 - dropout_compiled_binary_accuracy: 0.7205 - dropout_wrapper_loss: 3.6443\n",
            "Epoch 10/12\n",
            "64/64 [==============================] - 8s 109ms/step - dropout_compiled_loss: 3.7943 - dropout_compiled_binary_accuracy: 0.7059 - dropout_wrapper_loss: 3.7417\n",
            "Epoch 11/12\n",
            "64/64 [==============================] - 7s 96ms/step - dropout_compiled_loss: 3.7110 - dropout_compiled_binary_accuracy: 0.7187 - dropout_wrapper_loss: 3.6702\n",
            "Epoch 12/12\n",
            "64/64 [==============================] - 7s 96ms/step - dropout_compiled_loss: 3.5395 - dropout_compiled_binary_accuracy: 0.7297 - dropout_wrapper_loss: 3.5884\n"
          ]
        }
      ],
      "source": [
        "# Dropout Wrapper\n",
        "\n",
        "dropout_model = DropoutWrapper(encoder, p=0.5)\n",
        "# dropout_model = DropoutWrapper(base_model, p=0.5)\n",
        "\n",
        "\n",
        "dropout_model.compile(\n",
        "            optimizer=tf.keras.optimizers.Adam(learning_rate = 0.0001),\n",
        "            loss=tf.keras.losses.BinaryCrossentropy(),\n",
        "            metrics=[tf.keras.metrics.BinaryAccuracy()]\n",
        "                     )\n",
        "\n",
        "history = dropout_model.fit(\n",
        "        dataset_path,\n",
        "        epochs=12,\n",
        "        batch_size=64,\n",
        "  )"
      ]
    },
    {
      "cell_type": "code",
      "execution_count": null,
      "metadata": {
        "id": "hUCeEc6jiODR"
      },
      "outputs": [],
      "source": [
        "# VAE Wrapper\n",
        "\n",
        "vae_model = VAEWrapper(encoder, decoder=decoder)\n",
        "\n",
        "vae_model.compile(\n",
        "    optimizer= tf.keras.optimizers.Adam(learning_rate = 0.0000001),\n",
        "    loss= tf.losses.BinaryCrossentropy(from_logits= True),\n",
        "    metrics= [tf.keras.metrics.BinaryAccuracy()]\n",
        ")\n",
        "\n",
        "history = vae_model.fit(\n",
        "    dataset_path,\n",
        "    epochs=3,                                    \n",
        "    validation_data = dataset_path_val)\n",
        "\n"
      ]
    },
    {
      "cell_type": "code",
      "execution_count": null,
      "metadata": {
        "colab": {
          "base_uri": "https://localhost:8080/",
          "height": 797
        },
        "id": "Gls2NYNs9Uhg",
        "outputId": "fb2f544c-de60-493a-ee42-f2dddf4c60a0"
      },
      "outputs": [
        {
          "name": "stdout",
          "output_type": "stream",
          "text": [
            "Epoch 1/10\n",
            "64/64 [==============================] - 12s 95ms/step - dropout_0_compiled_loss: 7.7317 - dropout_0_wrapper_loss: 7.3456\n",
            "Epoch 2/10\n",
            "64/64 [==============================] - 8s 117ms/step - dropout_0_compiled_loss: 6.1625 - dropout_0_wrapper_loss: 2.8866\n",
            "Epoch 3/10\n",
            "64/64 [==============================] - 7s 98ms/step - dropout_0_compiled_loss: 4.4273 - dropout_0_wrapper_loss: 1.2417\n",
            "Epoch 4/10\n",
            "64/64 [==============================] - 8s 117ms/step - dropout_0_compiled_loss: 3.4243 - dropout_0_wrapper_loss: 0.7494\n",
            "Epoch 5/10\n",
            "64/64 [==============================] - 7s 97ms/step - dropout_0_compiled_loss: 2.7983 - dropout_0_wrapper_loss: 0.5420\n",
            "Epoch 6/10\n",
            "64/64 [==============================] - 7s 96ms/step - dropout_0_compiled_loss: 2.3762 - dropout_0_wrapper_loss: 0.4300\n",
            "Epoch 7/10\n",
            "64/64 [==============================] - 8s 107ms/step - dropout_0_compiled_loss: 2.0694 - dropout_0_wrapper_loss: 0.3441\n",
            "Epoch 8/10\n",
            "64/64 [==============================] - 8s 111ms/step - dropout_0_compiled_loss: 1.8357 - dropout_0_wrapper_loss: 0.2981\n",
            "Epoch 9/10\n",
            "64/64 [==============================] - 7s 96ms/step - dropout_0_compiled_loss: 1.6533 - dropout_0_wrapper_loss: 0.2784\n",
            "Epoch 10/10\n",
            "64/64 [==============================] - 7s 97ms/step - dropout_0_compiled_loss: 1.5065 - dropout_0_wrapper_loss: 0.2456\n"
          ]
        },
        {
          "data": {
            "image/png": "[encoded data removed]",
            "text/plain": [
              "<Figure size 640x480 with 1 Axes>"
            ]
          },
          "metadata": {},
          "output_type": "display_data"
        }
      ],
      "source": [
        "# Composibility\n",
        "\n",
        "two_models = EnsembleWrapper(encoder, num_members=1, metric_wrapper=DropoutWrapper, kwargs={'p': 0.2})\n",
        "\n",
        "two_models.compile(\n",
        "    optimizer=tf.keras.optimizers.Adam(learning_rate=0.001),\n",
        "    loss=\"mse\",\n",
        ")\n",
        "\n",
        "history = two_models.fit(\n",
        "    dataset_path,\n",
        "    epochs=10,\n",
        ")\n",
        "\n",
        "d = history.history\n",
        "d = {key: value for key, value in d.items() if \"compiled\" in key}\n",
        "for key, value in d.items():\n",
        "    plt.plot(value, label=key)\n",
        "\n",
        "plt.show()"
      ]
    }
  ],
  "metadata": {
    "accelerator": "GPU",
    "colab": {
      "gpuType": "T4",
      "include_colab_link": true,
      "provenance": []
    },
    "gpuClass": "standard",
    "kernelspec": {
      "display_name": "Python 3.9.7 ('base')",
      "language": "python",
      "name": "python3"
    },
    "language_info": {
      "codemirror_mode": {
        "name": "ipython",
        "version": 3
      },
      "file_extension": ".py",
      "mimetype": "text/x-python",
      "name": "python",
      "nbconvert_exporter": "python",
      "pygments_lexer": "ipython3",
      "version": "3.9.7"
    },
    "orig_nbformat": 4,
    "vscode": {
      "interpreter": {
        "hash": "d4de0671d8054c88a8842951ed8f6115b974e2e5b39cbc2553be5a6678282e63"
      }
    }
  },
  "nbformat": 4,
  "nbformat_minor": 0
}
