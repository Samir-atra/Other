{
  "cells": [
    {
      "cell_type": "code",
      "execution_count": 1,
      "metadata": {
        "id": "d6vfxK_0Ptlr",
        "colab": {
          "base_uri": "https://localhost:8080/"
        },
        "outputId": "4ab4c4c7-2911-48fb-f097-c8ce418e1cd4"
      },
      "outputs": [
        {
          "output_type": "stream",
          "name": "stdout",
          "text": [
            "Looking in indexes: https://pypi.org/simple, https://us-python.pkg.dev/colab-wheels/public/simple/\n",
            "Collecting git+https://github.com/themis-ai/capsa.git\n",
            "  Cloning https://github.com/themis-ai/capsa.git to /tmp/pip-req-build-diy7agxd\n",
            "  Running command git clone --filter=blob:none --quiet https://github.com/themis-ai/capsa.git /tmp/pip-req-build-diy7agxd\n",
            "  Resolved https://github.com/themis-ai/capsa.git to commit d5f0decf7e8d4abdb9ca370a0b9bb03787de8e9a\n",
            "  Preparing metadata (setup.py) ... \u001b[?25l\u001b[?25hdone\n",
            "Looking in indexes: https://pypi.org/simple, https://us-python.pkg.dev/colab-wheels/public/simple/\n",
            "Requirement already satisfied: helper in /usr/local/lib/python3.10/dist-packages (2.5.0)\n",
            "Requirement already satisfied: pyyaml in /usr/local/lib/python3.10/dist-packages (from helper) (6.0)\n",
            "Drive already mounted at /content/drive; to attempt to forcibly remount, call drive.mount(\"/content/drive\", force_remount=True).\n"
          ]
        }
      ],
      "source": [
        "# Imports\n",
        "\n",
        "import tensorflow as tf\n",
        "import numpy as np\n",
        "import os\n",
        "import pathlib\n",
        "import IPython\n",
        "import sys\n",
        "!pip install keras_tuner -q\n",
        "import keras_tuner\n",
        "!pip install git+https://github.com/themis-ai/capsa.git\n",
        "import capsa\n",
        "from capsa import EnsembleWrapper\n",
        "!pip install helper\n",
        "import helper\n",
        "\n",
        "from google.colab import drive             \n",
        "drive.mount('/content/drive')"
      ]
    },
    {
      "cell_type": "code",
      "execution_count": 6,
      "metadata": {
        "id": "vfp3guitPtlt",
        "colab": {
          "base_uri": "https://localhost:8080/"
        },
        "outputId": "244da4cf-7d21-4f01-ad74-5ead21710445"
      },
      "outputs": [
        {
          "output_type": "stream",
          "name": "stdout",
          "text": [
            "Found 4159 files belonging to 2 classes.\n",
            "Using 3328 files for training.\n",
            "Found 4159 files belonging to 2 classes.\n",
            "Using 831 files for validation.\n",
            "Found 921 files belonging to 2 classes.\n"
          ]
        }
      ],
      "source": [
        "# Dataset loading\n",
        "\n",
        "data_path = pathlib.Path('/content/drive/MyDrive/archiveX3/Training/')\n",
        "data_path_test = pathlib.Path('/content/drive/MyDrive/archiveX3/Testing/')\n",
        "\n",
        "dataset_path = tf.keras.utils.image_dataset_from_directory(\n",
        "    data_path,\n",
        "    labels= 'inferred',\n",
        "    validation_split=0.2,\n",
        "    subset='training',\n",
        "    seed= 1,\n",
        "    batch_size=64,\n",
        "    image_size=(64, 64),\n",
        "    color_mode=\"rgb\")\n",
        "    # shuffle=True)\n",
        "\n",
        "dataset_path_val = tf.keras.utils.image_dataset_from_directory(\n",
        "    data_path,\n",
        "    labels= 'inferred',\n",
        "    validation_split=0.2,\n",
        "    subset='validation',\n",
        "    seed= 2,\n",
        "    batch_size=64,\n",
        "    image_size=(64, 64),\n",
        "    color_mode=\"rgb\")\n",
        "    # shuffle=True)\n",
        "\n",
        "dataset_path_test = tf.keras.utils.image_dataset_from_directory(\n",
        "    data_path_test,\n",
        "    labels= 'inferred',\n",
        "    seed= 3,\n",
        "    batch_size=64,\n",
        "    image_size=(64, 64),\n",
        "    color_mode=\"rgb\")\n",
        "    # shuffle=True)\n"
      ]
    },
    {
      "cell_type": "code",
      "execution_count": null,
      "metadata": {
        "id": "SZiBiEnNPtlu"
      },
      "outputs": [],
      "source": [
        "# # catch and prefetch\n",
        "# AUTOTUNE=tf.data.AUTOTUNE\n",
        "# dataset_path = dataset_path.cache().prefetch(buffer_size=AUTOTUNE)\n",
        "# dataset_path_val = dataset_path_val.cache().prefetch(buffer_size=AUTOTUNE)"
      ]
    },
    {
      "cell_type": "code",
      "execution_count": 10,
      "metadata": {
        "id": "A1GdSSWvPtlw",
        "colab": {
          "base_uri": "https://localhost:8080/"
        },
        "outputId": "0235595c-0ebd-4365-a1d4-491edbd9e603"
      },
      "outputs": [
        {
          "output_type": "stream",
          "name": "stdout",
          "text": [
            "Model: \"sequential_4\"\n",
            "_________________________________________________________________\n",
            " Layer (type)                Output Shape              Param #   \n",
            "=================================================================\n",
            " conv2d_8 (Conv2D)           (None, 32, 32, 16)        448       \n",
            "                                                                 \n",
            " conv2d_9 (Conv2D)           (None, 16, 16, 32)        4640      \n",
            "                                                                 \n",
            " conv2d_10 (Conv2D)          (None, 8, 8, 64)          18496     \n",
            "                                                                 \n",
            " conv2d_11 (Conv2D)          (None, 4, 4, 128)         8320      \n",
            "                                                                 \n",
            " flatten_2 (Flatten)         (None, 2048)              0         \n",
            "                                                                 \n",
            " dense_10 (Dense)            (None, 512)               1049088   \n",
            "                                                                 \n",
            " dense_11 (Dense)            (None, 1)                 513       \n",
            "                                                                 \n",
            "=================================================================\n",
            "Total params: 1,081,505\n",
            "Trainable params: 1,081,505\n",
            "Non-trainable params: 0\n",
            "_________________________________________________________________\n"
          ]
        }
      ],
      "source": [
        "#classification cModel\n",
        "\n",
        "num_classes = 1\n",
        "\n",
        "\n",
        "model = tf.keras.Sequential([\n",
        "    tf.keras.Input(shape=(64, 64, 3)),\n",
        "    # tf.keras.layers.Rescaling(1./255),\n",
        "    tf.keras.layers.Conv2D(16, 3, strides = 2, padding = \"same\",  activation='relu'),#, kernel_regularizer=tf.keras.regularizers.l2(0.001)),  \n",
        "    # tf.keras.layers.Dropout(0.5),                                                                         #DP1\n",
        "    tf.keras.layers.Conv2D(32, 3, strides = 2, padding = \"same\", activation='relu'),#, kernel_regularizer=tf.keras.regularizers.l2(0.001)),\n",
        "    # tf.keras.layers.Dropout(0.5),                                                                         #DP2\n",
        "    tf.keras.layers.Conv2D(64, 3, strides = 2, padding = \"same\", activation='relu'),#, kernel_regularizer=tf.keras.regularizers.l2(0.001)),\n",
        "    # tf.keras.layers.Dropout(0.5),\n",
        "    tf.keras.layers.Conv2D(128, 1, strides = 2, padding = \"same\", activation='relu'),#, kernel_regularizer=tf.keras.regularizers.l2(0.001)),\n",
        "    # tf.keras.layers.Dropout(0.7),                                                                         #DP3\n",
        "    tf.keras.layers.Flatten(),\n",
        "    tf.keras.layers.Dense(units = 512, activation='relu'),#, kernel_regularizer=tf.keras.regularizers.l2(0.001)),\n",
        "    # tf.keras.layers.Dropout(0.2),                                                                         #DP4                                                                        #DP5\n",
        "    tf.keras.layers.Dense(num_classes, activation= None)\n",
        "])\n",
        "\n",
        "\n",
        "# model.compile(\n",
        "#     optimizer=tf.keras.optimizers.Adam(learning_rate=5e-4),\n",
        "#     loss=tf.keras.losses.BinaryCrossentropy(from_logits=True), \n",
        "#     metrics=[tf.keras.metrics.BinaryAccuracy()], \n",
        "#     run_eagerly=True\n",
        "# )\n",
        "\n",
        "# model.fit(\n",
        "#         dataset_path,\n",
        "#         epochs=6,\n",
        "#         batch_size=64,\n",
        "#   )\n",
        "\n",
        "model.summary()\n",
        "\n"
      ]
    },
    {
      "cell_type": "code",
      "source": [
        "# the HistogramVAEWrapper check\n",
        "\n",
        "decoder = tf.keras.Sequential([\n",
        "        tf.keras.layers.Dense(units=4*4*128),  \n",
        "        tf.keras.layers.Reshape((4, 4, 128)),\n",
        "        tf.keras.layers.Conv2DTranspose(64, 1,  strides=2, padding = \"same\"),\n",
        "        tf.keras.layers.Conv2DTranspose(32, 3,  strides=2, padding = \"same\"),\n",
        "        tf.keras.layers.Conv2DTranspose(16, 3,  strides=2, padding = \"same\"),\n",
        "        tf.keras.layers.Conv2DTranspose(3, 3,  strides=2, padding = \"same\"),\n",
        "    ])\n",
        "\n",
        "\n",
        "\n",
        "wrapped_model = capsa.HistogramVAEWrapper(model, num_bins=5, queue_size=20000, latent_dim = 64, decoder=decoder)\n",
        "\n",
        "wrapped_model.compile(\n",
        "    optimizer= tf.keras.optimizers.Adam(learning_rate = 0.00001),\n",
        "    loss= tf.losses.BinaryCrossentropy(from_logits= True),\n",
        "    metrics= [tf.keras.metrics.BinaryAccuracy()]\n",
        ")\n",
        "# wrapped_model.summary()\n",
        "\n",
        "history = wrapped_model.fit(\n",
        "    dataset_path,\n",
        "    epochs=10,                                    \n",
        "    validation_data = dataset_path_val)\n",
        "\n",
        "\n",
        "out = wrapped_model.predict(dataset_path_test, batch_size=512)\n"
      ],
      "metadata": {
        "id": "HqkZqKoNbKMh",
        "colab": {
          "base_uri": "https://localhost:8080/"
        },
        "outputId": "cff39599-8a8a-46e6-eb91-123672d42094"
      },
      "execution_count": 15,
      "outputs": [
        {
          "output_type": "stream",
          "name": "stdout",
          "text": [
            "Epoch 1/10\n"
          ]
        },
        {
          "output_type": "stream",
          "name": "stderr",
          "text": [
            "WARNING:tensorflow:Gradients do not exist for variables ['dense_11/kernel:0', 'dense_11/bias:0'] when minimizing the loss. If you're using `model.compile()`, did you forget to provide a `loss` argument?\n",
            "WARNING:tensorflow:Gradients do not exist for variables ['dense_11/kernel:0', 'dense_11/bias:0'] when minimizing the loss. If you're using `model.compile()`, did you forget to provide a `loss` argument?\n",
            "WARNING:tensorflow:Gradients do not exist for variables ['dense_11/kernel:0', 'dense_11/bias:0'] when minimizing the loss. If you're using `model.compile()`, did you forget to provide a `loss` argument?\n",
            "WARNING:tensorflow:Gradients do not exist for variables ['dense_11/kernel:0', 'dense_11/bias:0'] when minimizing the loss. If you're using `model.compile()`, did you forget to provide a `loss` argument?\n"
          ]
        },
        {
          "output_type": "stream",
          "name": "stdout",
          "text": [
            "52/52 [==============================] - 15s 160ms/step - vae_compiled_loss: nan - vae_compiled_binary_accuracy: 0.5319 - vae_wrapper_loss: nan - val_vae_compiled_loss: nan - val_vae_compiled_binary_accuracy: 0.5018 - val_vae_wrapper_loss: nan\n",
            "Epoch 2/10\n",
            "52/52 [==============================] - 7s 123ms/step - vae_compiled_loss: nan - vae_compiled_binary_accuracy: 0.5247 - vae_wrapper_loss: nan - val_vae_compiled_loss: nan - val_vae_compiled_binary_accuracy: 0.5018 - val_vae_wrapper_loss: nan\n",
            "Epoch 3/10\n",
            "52/52 [==============================] - 9s 147ms/step - vae_compiled_loss: nan - vae_compiled_binary_accuracy: 0.5393 - vae_wrapper_loss: nan - val_vae_compiled_loss: nan - val_vae_compiled_binary_accuracy: 0.5018 - val_vae_wrapper_loss: nan\n",
            "Epoch 4/10\n",
            "52/52 [==============================] - 8s 146ms/step - vae_compiled_loss: nan - vae_compiled_binary_accuracy: 0.5344 - vae_wrapper_loss: nan - val_vae_compiled_loss: nan - val_vae_compiled_binary_accuracy: 0.5018 - val_vae_wrapper_loss: nan\n",
            "Epoch 5/10\n",
            "52/52 [==============================] - 8s 147ms/step - vae_compiled_loss: nan - vae_compiled_binary_accuracy: 0.5289 - vae_wrapper_loss: nan - val_vae_compiled_loss: nan - val_vae_compiled_binary_accuracy: 0.5018 - val_vae_wrapper_loss: nan\n",
            "Epoch 6/10\n",
            "52/52 [==============================] - 8s 139ms/step - vae_compiled_loss: nan - vae_compiled_binary_accuracy: 0.5223 - vae_wrapper_loss: nan - val_vae_compiled_loss: nan - val_vae_compiled_binary_accuracy: 0.5018 - val_vae_wrapper_loss: nan\n",
            "Epoch 7/10\n",
            "52/52 [==============================] - 8s 144ms/step - vae_compiled_loss: nan - vae_compiled_binary_accuracy: 0.5282 - vae_wrapper_loss: nan - val_vae_compiled_loss: nan - val_vae_compiled_binary_accuracy: 0.5018 - val_vae_wrapper_loss: nan\n",
            "Epoch 8/10\n",
            "52/52 [==============================] - 7s 127ms/step - vae_compiled_loss: nan - vae_compiled_binary_accuracy: 0.5257 - vae_wrapper_loss: nan - val_vae_compiled_loss: nan - val_vae_compiled_binary_accuracy: 0.5018 - val_vae_wrapper_loss: nan\n",
            "Epoch 9/10\n",
            "52/52 [==============================] - 8s 137ms/step - vae_compiled_loss: nan - vae_compiled_binary_accuracy: 0.5231 - vae_wrapper_loss: nan - val_vae_compiled_loss: nan - val_vae_compiled_binary_accuracy: 0.5018 - val_vae_wrapper_loss: nan\n",
            "Epoch 10/10\n",
            "52/52 [==============================] - 9s 158ms/step - vae_compiled_loss: nan - vae_compiled_binary_accuracy: 0.5385 - vae_wrapper_loss: nan - val_vae_compiled_loss: nan - val_vae_compiled_binary_accuracy: 0.5018 - val_vae_wrapper_loss: nan\n",
            "15/15 [==============================] - 2s 66ms/step\n"
          ]
        }
      ]
    },
    {
      "cell_type": "code",
      "source": [
        "mve_model = capsa.MVEWrapper(model, is_classification=True)\n",
        "\n",
        "mve_model.compile(\n",
        "    optimizer=tf.keras.optimizers.Adam(learning_rate=5e-4),\n",
        "    loss=tf.keras.losses.BinaryCrossentropy(from_logits=True), \n",
        "    metrics=[tf.keras.metrics.BinaryAccuracy()], \n",
        "    run_eagerly=True\n",
        ")\n",
        "\n",
        "history = mve_model.fit(\n",
        "        dataset_path,\n",
        "        epochs=6,\n",
        "        batch_size=64,\n",
        "  )\n",
        "\n",
        "normalization_layer = tf.keras.layers.Rescaling(1./255)\n",
        "normalized_train_ds = dataset_path.map(lambda x, y: (normalization_layer(x), y))\n",
        "normalized_test_ds = dataset_path_test.map(lambda x, y: (normalization_layer(x), y))\n",
        "\n",
        "images = np.vstack((normalized_test_ds, normalized_train_ds))\n",
        "\n",
        "# print(type(images[1][0]))\n",
        "\n",
        "# images= tf.convert_to_tensor(np.asarray(images).astype('float32'))\n",
        "\n",
        "# predictions = model(images)"
      ],
      "metadata": {
        "colab": {
          "base_uri": "https://localhost:8080/"
        },
        "id": "Pq5nyLc-JMYL",
        "outputId": "dea356a0-2f72-467d-a44f-9014e48735be"
      },
      "execution_count": 9,
      "outputs": [
        {
          "output_type": "stream",
          "name": "stdout",
          "text": [
            "Epoch 1/6\n"
          ]
        },
        {
          "output_type": "stream",
          "name": "stderr",
          "text": [
            "WARNING:tensorflow:Gradients do not exist for variables ['dense_6/kernel:0', 'dense_6/bias:0'] when minimizing the loss. If you're using `model.compile()`, did you forget to provide a `loss` argument?\n",
            "WARNING:tensorflow:Gradients do not exist for variables ['dense_6/kernel:0', 'dense_6/bias:0'] when minimizing the loss. If you're using `model.compile()`, did you forget to provide a `loss` argument?\n",
            "WARNING:tensorflow:Gradients do not exist for variables ['dense_6/kernel:0', 'dense_6/bias:0'] when minimizing the loss. If you're using `model.compile()`, did you forget to provide a `loss` argument?\n",
            "WARNING:tensorflow:Gradients do not exist for variables ['dense_6/kernel:0', 'dense_6/bias:0'] when minimizing the loss. If you're using `model.compile()`, did you forget to provide a `loss` argument?\n"
          ]
        },
        {
          "output_type": "stream",
          "name": "stdout",
          "text": [
            "52/52 [==============================] - 9s 92ms/step - mve_compiled_loss: nan - mve_compiled_binary_accuracy: 0.5345 - mve_wrapper_loss: nan\n",
            "Epoch 2/6\n",
            "52/52 [==============================] - 7s 116ms/step - mve_compiled_loss: nan - mve_compiled_binary_accuracy: 0.5295 - mve_wrapper_loss: nan\n",
            "Epoch 3/6\n",
            "52/52 [==============================] - 6s 97ms/step - mve_compiled_loss: nan - mve_compiled_binary_accuracy: 0.5330 - mve_wrapper_loss: nan\n",
            "Epoch 4/6\n",
            "52/52 [==============================] - 7s 121ms/step - mve_compiled_loss: nan - mve_compiled_binary_accuracy: 0.5367 - mve_wrapper_loss: nan\n",
            "Epoch 5/6\n",
            "52/52 [==============================] - 6s 93ms/step - mve_compiled_loss: nan - mve_compiled_binary_accuracy: 0.5215 - mve_wrapper_loss: nan\n",
            "Epoch 6/6\n",
            "52/52 [==============================] - 6s 94ms/step - mve_compiled_loss: nan - mve_compiled_binary_accuracy: 0.5212 - mve_wrapper_loss: nan\n",
            "<class 'tensorflow.python.data.ops.map_op._MapDataset'>\n"
          ]
        }
      ]
    },
    {
      "cell_type": "code",
      "source": [
        "Ensemble_wrapped_model = EnsembleWrapper(model,num_members=1)\n",
        "\n",
        "\n",
        "Ensemble_wrapped_model.compile(\n",
        "            optimizer=tf.keras.optimizers.Adam(),\n",
        "            loss=tf.keras.losses.BinaryCrossentropy(),\n",
        "            metrics=[tf.keras.metrics.BinaryAccuracy()]\n",
        "                     )\n",
        "\n",
        "history = Ensemble_wrapped_model.fit(\n",
        "        dataset_path,\n",
        "        epochs=12,\n",
        "        batch_size=64,\n",
        "  )\n",
        "\n",
        "# mesh_grid = helper.get_grid()\n",
        "# output = Ensemble_wrapped_model(mesh_grid)\n",
        "# helper.plot_ensemble_classification(output,mesh_grid,dataset_path_test)"
      ],
      "metadata": {
        "colab": {
          "base_uri": "https://localhost:8080/",
          "height": 651
        },
        "id": "hmGa4UoEwuwS",
        "outputId": "9a7cd593-73bf-424b-adc1-0839abadb770"
      },
      "execution_count": null,
      "outputs": [
        {
          "output_type": "stream",
          "name": "stdout",
          "text": [
            "Epoch 1/12\n",
            "52/52 [==============================] - 10s 104ms/step - usermodel_0_compiled_loss: 7.7131 - usermodel_0_compiled_binary_accuracy: 0.4879\n",
            "Epoch 2/12\n",
            "52/52 [==============================] - 6s 95ms/step - usermodel_0_compiled_loss: 7.9382 - usermodel_0_compiled_binary_accuracy: 0.4784\n",
            "Epoch 3/12\n",
            "52/52 [==============================] - 7s 117ms/step - usermodel_0_compiled_loss: 7.9419 - usermodel_0_compiled_binary_accuracy: 0.4786\n",
            "Epoch 4/12\n",
            "52/52 [==============================] - 6s 97ms/step - usermodel_0_compiled_loss: 7.9440 - usermodel_0_compiled_binary_accuracy: 0.4786\n",
            "Epoch 5/12\n",
            "52/52 [==============================] - 7s 124ms/step - usermodel_0_compiled_loss: 7.9457 - usermodel_0_compiled_binary_accuracy: 0.4786\n",
            "Epoch 6/12\n",
            "52/52 [==============================] - 6s 97ms/step - usermodel_0_compiled_loss: 7.9440 - usermodel_0_compiled_binary_accuracy: 0.4788\n",
            "Epoch 7/12\n",
            "52/52 [==============================] - 6s 96ms/step - usermodel_0_compiled_loss: 7.9463 - usermodel_0_compiled_binary_accuracy: 0.4787\n",
            "Epoch 8/12\n",
            "52/52 [==============================] - 7s 119ms/step - usermodel_0_compiled_loss: 7.9506 - usermodel_0_compiled_binary_accuracy: 0.4784\n",
            "Epoch 9/12\n",
            "52/52 [==============================] - 6s 96ms/step - usermodel_0_compiled_loss: 7.9504 - usermodel_0_compiled_binary_accuracy: 0.4785\n",
            "Epoch 10/12\n",
            "52/52 [==============================] - 7s 122ms/step - usermodel_0_compiled_loss: 7.9514 - usermodel_0_compiled_binary_accuracy: 0.4784\n",
            "Epoch 11/12\n",
            "52/52 [==============================] - 6s 96ms/step - usermodel_0_compiled_loss: 7.9520 - usermodel_0_compiled_binary_accuracy: 0.4784\n",
            "Epoch 12/12\n",
            "52/52 [==============================] - 7s 120ms/step - usermodel_0_compiled_loss: 7.9507 - usermodel_0_compiled_binary_accuracy: 0.4785\n"
          ]
        },
        {
          "output_type": "error",
          "ename": "AttributeError",
          "evalue": "ignored",
          "traceback": [
            "\u001b[0;31m---------------------------------------------------------------------------\u001b[0m",
            "\u001b[0;31mAttributeError\u001b[0m                            Traceback (most recent call last)",
            "\u001b[0;32m<ipython-input-16-03bfc838a1d6>\u001b[0m in \u001b[0;36m<cell line: 16>\u001b[0;34m()\u001b[0m\n\u001b[1;32m     14\u001b[0m   )\n\u001b[1;32m     15\u001b[0m \u001b[0;34m\u001b[0m\u001b[0m\n\u001b[0;32m---> 16\u001b[0;31m \u001b[0mmesh_grid\u001b[0m \u001b[0;34m=\u001b[0m \u001b[0mhelper\u001b[0m\u001b[0;34m.\u001b[0m\u001b[0mget_grid\u001b[0m\u001b[0;34m(\u001b[0m\u001b[0;34m)\u001b[0m\u001b[0;34m\u001b[0m\u001b[0;34m\u001b[0m\u001b[0m\n\u001b[0m\u001b[1;32m     17\u001b[0m \u001b[0moutput\u001b[0m \u001b[0;34m=\u001b[0m \u001b[0mEnsemble_wrapped_model\u001b[0m\u001b[0;34m(\u001b[0m\u001b[0mmesh_grid\u001b[0m\u001b[0;34m)\u001b[0m\u001b[0;34m\u001b[0m\u001b[0;34m\u001b[0m\u001b[0m\n\u001b[1;32m     18\u001b[0m \u001b[0mhelper\u001b[0m\u001b[0;34m.\u001b[0m\u001b[0mplot_ensemble_classification\u001b[0m\u001b[0;34m(\u001b[0m\u001b[0moutput\u001b[0m\u001b[0;34m,\u001b[0m\u001b[0mmesh_grid\u001b[0m\u001b[0;34m,\u001b[0m\u001b[0mdataset_path_test\u001b[0m\u001b[0;34m)\u001b[0m\u001b[0;34m\u001b[0m\u001b[0;34m\u001b[0m\u001b[0m\n",
            "\u001b[0;31mAttributeError\u001b[0m: module 'helper' has no attribute 'get_grid'"
          ]
        }
      ]
    },
    {
      "cell_type": "code",
      "source": [
        "from capsa import DropoutWrapper\n",
        "\n",
        "base_model = unet(drop_prob=0.1)\n",
        "# don't add dropout in the wrapper because our\n",
        "# model already contains dropout layers\n",
        "model = DropoutWrapper(base_model, p=0.0)"
      ],
      "metadata": {
        "id": "eoOywcJC4Oka"
      },
      "execution_count": null,
      "outputs": []
    }
  ],
  "metadata": {
    "kernelspec": {
      "display_name": "Python 3.9.7 ('base')",
      "language": "python",
      "name": "python3"
    },
    "language_info": {
      "codemirror_mode": {
        "name": "ipython",
        "version": 3
      },
      "file_extension": ".py",
      "mimetype": "text/x-python",
      "name": "python",
      "nbconvert_exporter": "python",
      "pygments_lexer": "ipython3",
      "version": "3.9.7"
    },
    "orig_nbformat": 4,
    "vscode": {
      "interpreter": {
        "hash": "d4de0671d8054c88a8842951ed8f6115b974e2e5b39cbc2553be5a6678282e63"
      }
    },
    "colab": {
      "provenance": [],
      "gpuType": "T4"
    },
    "accelerator": "GPU",
    "gpuClass": "standard"
  },
  "nbformat": 4,
  "nbformat_minor": 0
}